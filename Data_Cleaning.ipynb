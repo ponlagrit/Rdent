{
  "cells": [
    {
      "cell_type": "markdown",
      "source": [
        "# **Data Cleaning**"
      ],
      "metadata": {
        "id": "ohuNrmxMsdE0"
      }
    },
    {
      "cell_type": "markdown",
      "source": [
        "## **Install packages**"
      ],
      "metadata": {
        "id": "MAGN8-7Es2Vp"
      }
    },
    {
      "cell_type": "code",
      "execution_count": 2,
      "metadata": {
        "colab": {
          "base_uri": "https://localhost:8080/"
        },
        "id": "CzwFckZemDo_",
        "outputId": "8e0d0484-2cf5-482e-8c0d-c2398cbcb434"
      },
      "outputs": [
        {
          "output_type": "stream",
          "name": "stderr",
          "text": [
            "Installing package into ‘/usr/local/lib/R/site-library’\n",
            "(as ‘lib’ is unspecified)\n",
            "\n"
          ]
        }
      ],
      "source": [
        "install.packages(\"epiDisplay\")"
      ]
    },
    {
      "cell_type": "code",
      "execution_count": 3,
      "metadata": {
        "colab": {
          "base_uri": "https://localhost:8080/"
        },
        "id": "NXsMrGU_PKZk",
        "outputId": "3e7b0083-e574-4c5f-e715-a26d7486399c"
      },
      "outputs": [
        {
          "output_type": "stream",
          "name": "stderr",
          "text": [
            "Loading required package: foreign\n",
            "\n",
            "Loading required package: survival\n",
            "\n",
            "Loading required package: MASS\n",
            "\n",
            "Loading required package: nnet\n",
            "\n",
            "── \u001b[1mAttaching core tidyverse packages\u001b[22m ──────────────────────── tidyverse 2.0.0 ──\n",
            "\u001b[32m✔\u001b[39m \u001b[34mdplyr  \u001b[39m 1.1.4     \u001b[32m✔\u001b[39m \u001b[34mreadr  \u001b[39m 2.1.5\n",
            "\u001b[32m✔\u001b[39m \u001b[34mforcats\u001b[39m 1.0.0     \u001b[32m✔\u001b[39m \u001b[34mstringr\u001b[39m 1.5.1\n",
            "\u001b[32m✔\u001b[39m \u001b[34mggplot2\u001b[39m 3.4.4     \u001b[32m✔\u001b[39m \u001b[34mtibble \u001b[39m 3.2.1\n",
            "\u001b[32m✔\u001b[39m \u001b[34mpurrr  \u001b[39m 1.0.2     \u001b[32m✔\u001b[39m \u001b[34mtidyr  \u001b[39m 1.3.1\n",
            "── \u001b[1mConflicts\u001b[22m ────────────────────────────────────────── tidyverse_conflicts() ──\n",
            "\u001b[31m✖\u001b[39m \u001b[34mggplot2\u001b[39m::\u001b[32malpha()\u001b[39m masks \u001b[34mepiDisplay\u001b[39m::alpha()\n",
            "\u001b[31m✖\u001b[39m \u001b[34mdplyr\u001b[39m::\u001b[32mfilter()\u001b[39m  masks \u001b[34mstats\u001b[39m::filter()\n",
            "\u001b[31m✖\u001b[39m \u001b[34mdplyr\u001b[39m::\u001b[32mlag()\u001b[39m     masks \u001b[34mstats\u001b[39m::lag()\n",
            "\u001b[31m✖\u001b[39m \u001b[34mdplyr\u001b[39m::\u001b[32mselect()\u001b[39m  masks \u001b[34mMASS\u001b[39m::select()\n",
            "\u001b[36mℹ\u001b[39m Use the conflicted package (\u001b[3m\u001b[34m<http://conflicted.r-lib.org/>\u001b[39m\u001b[23m) to force all conflicts to become errors\n"
          ]
        }
      ],
      "source": [
        "library(lubridate)\n",
        "library(epiDisplay)\n",
        "library(readxl)\n",
        "library(tidyverse)"
      ]
    },
    {
      "cell_type": "markdown",
      "source": [
        "## **Import data**"
      ],
      "metadata": {
        "id": "azWH9coS6SMd"
      }
    },
    {
      "cell_type": "markdown",
      "source": [
        "ไฟล์ .csv"
      ],
      "metadata": {
        "id": "807CAwdk6dhI"
      }
    },
    {
      "cell_type": "code",
      "source": [
        "temp <- tempfile()\n",
        "download.file(\"https://drive.usercontent.google.com/uc?id=1cw9h8fQ_T4ohKa4wUkB4h6p865-Nw1R2&authuser=0&export=download\", temp)\n",
        "stemi<-read.csv(temp)"
      ],
      "metadata": {
        "id": "FThjojzQ63cw"
      },
      "execution_count": 20,
      "outputs": []
    },
    {
      "cell_type": "code",
      "source": [
        "head(stemi)"
      ],
      "metadata": {
        "colab": {
          "base_uri": "https://localhost:8080/",
          "height": 286
        },
        "id": "kQVVOlAU7P_I",
        "outputId": "b1bc9e28-efa2-4aa6-c0b4-4aa5f117d452"
      },
      "execution_count": 21,
      "outputs": [
        {
          "output_type": "display_data",
          "data": {
            "text/html": [
              "<table class=\"dataframe\">\n",
              "<caption>A data.frame: 6 × 17</caption>\n",
              "<thead>\n",
              "\t<tr><th></th><th scope=col>id</th><th scope=col>sex</th><th scope=col>age</th><th scope=col>pci</th><th scope=col>pstroke</th><th scope=col>dlp</th><th scope=col>dm</th><th scope=col>ht</th><th scope=col>d_adm</th><th scope=col>m_adm</th><th scope=col>y_adm</th><th scope=col>d_dsc</th><th scope=col>m_dsc</th><th scope=col>y_dsc</th><th scope=col>d_death</th><th scope=col>m_death</th><th scope=col>y_death</th></tr>\n",
              "\t<tr><th></th><th scope=col>&lt;int&gt;</th><th scope=col>&lt;chr&gt;</th><th scope=col>&lt;int&gt;</th><th scope=col>&lt;lgl&gt;</th><th scope=col>&lt;lgl&gt;</th><th scope=col>&lt;chr&gt;</th><th scope=col>&lt;chr&gt;</th><th scope=col>&lt;chr&gt;</th><th scope=col>&lt;int&gt;</th><th scope=col>&lt;int&gt;</th><th scope=col>&lt;int&gt;</th><th scope=col>&lt;int&gt;</th><th scope=col>&lt;int&gt;</th><th scope=col>&lt;int&gt;</th><th scope=col>&lt;int&gt;</th><th scope=col>&lt;int&gt;</th><th scope=col>&lt;int&gt;</th></tr>\n",
              "</thead>\n",
              "<tbody>\n",
              "\t<tr><th scope=row>1</th><td>14546825</td><td>Female</td><td>46</td><td>FALSE</td><td>FALSE</td><td>no </td><td>yes</td><td>no </td><td>1</td><td>1</td><td>2017</td><td>5</td><td>1</td><td>2017</td><td>NA</td><td>NA</td><td>  NA</td></tr>\n",
              "\t<tr><th scope=row>2</th><td>17116169</td><td>Male  </td><td>51</td><td> TRUE</td><td>FALSE</td><td>no </td><td>no </td><td>no </td><td>1</td><td>1</td><td>2017</td><td>6</td><td>1</td><td>2017</td><td>NA</td><td>NA</td><td>  NA</td></tr>\n",
              "\t<tr><th scope=row>3</th><td>18502426</td><td>Male  </td><td>55</td><td> TRUE</td><td>FALSE</td><td>yes</td><td>no </td><td>yes</td><td>1</td><td>1</td><td>2017</td><td>8</td><td>1</td><td>2017</td><td>NA</td><td>NA</td><td>  NA</td></tr>\n",
              "\t<tr><th scope=row>4</th><td>25568498</td><td>Male  </td><td>53</td><td> TRUE</td><td>FALSE</td><td>yes</td><td>yes</td><td>yes</td><td>1</td><td>1</td><td>2017</td><td>2</td><td>1</td><td>2017</td><td>NA</td><td>NA</td><td>  NA</td></tr>\n",
              "\t<tr><th scope=row>5</th><td>25664763</td><td>Male  </td><td>77</td><td> TRUE</td><td>FALSE</td><td>no </td><td>no </td><td>no </td><td>1</td><td>1</td><td>2017</td><td>3</td><td>1</td><td>2017</td><td>10</td><td>11</td><td>2017</td></tr>\n",
              "\t<tr><th scope=row>6</th><td>26536597</td><td>Male  </td><td>47</td><td> TRUE</td><td>FALSE</td><td>yes</td><td>no </td><td>yes</td><td>1</td><td>1</td><td>2017</td><td>6</td><td>1</td><td>2017</td><td>NA</td><td>NA</td><td>  NA</td></tr>\n",
              "</tbody>\n",
              "</table>\n"
            ],
            "text/markdown": "\nA data.frame: 6 × 17\n\n| <!--/--> | id &lt;int&gt; | sex &lt;chr&gt; | age &lt;int&gt; | pci &lt;lgl&gt; | pstroke &lt;lgl&gt; | dlp &lt;chr&gt; | dm &lt;chr&gt; | ht &lt;chr&gt; | d_adm &lt;int&gt; | m_adm &lt;int&gt; | y_adm &lt;int&gt; | d_dsc &lt;int&gt; | m_dsc &lt;int&gt; | y_dsc &lt;int&gt; | d_death &lt;int&gt; | m_death &lt;int&gt; | y_death &lt;int&gt; |\n|---|---|---|---|---|---|---|---|---|---|---|---|---|---|---|---|---|---|\n| 1 | 14546825 | Female | 46 | FALSE | FALSE | no  | yes | no  | 1 | 1 | 2017 | 5 | 1 | 2017 | NA | NA |   NA |\n| 2 | 17116169 | Male   | 51 |  TRUE | FALSE | no  | no  | no  | 1 | 1 | 2017 | 6 | 1 | 2017 | NA | NA |   NA |\n| 3 | 18502426 | Male   | 55 |  TRUE | FALSE | yes | no  | yes | 1 | 1 | 2017 | 8 | 1 | 2017 | NA | NA |   NA |\n| 4 | 25568498 | Male   | 53 |  TRUE | FALSE | yes | yes | yes | 1 | 1 | 2017 | 2 | 1 | 2017 | NA | NA |   NA |\n| 5 | 25664763 | Male   | 77 |  TRUE | FALSE | no  | no  | no  | 1 | 1 | 2017 | 3 | 1 | 2017 | 10 | 11 | 2017 |\n| 6 | 26536597 | Male   | 47 |  TRUE | FALSE | yes | no  | yes | 1 | 1 | 2017 | 6 | 1 | 2017 | NA | NA |   NA |\n\n",
            "text/latex": "A data.frame: 6 × 17\n\\begin{tabular}{r|lllllllllllllllll}\n  & id & sex & age & pci & pstroke & dlp & dm & ht & d\\_adm & m\\_adm & y\\_adm & d\\_dsc & m\\_dsc & y\\_dsc & d\\_death & m\\_death & y\\_death\\\\\n  & <int> & <chr> & <int> & <lgl> & <lgl> & <chr> & <chr> & <chr> & <int> & <int> & <int> & <int> & <int> & <int> & <int> & <int> & <int>\\\\\n\\hline\n\t1 & 14546825 & Female & 46 & FALSE & FALSE & no  & yes & no  & 1 & 1 & 2017 & 5 & 1 & 2017 & NA & NA &   NA\\\\\n\t2 & 17116169 & Male   & 51 &  TRUE & FALSE & no  & no  & no  & 1 & 1 & 2017 & 6 & 1 & 2017 & NA & NA &   NA\\\\\n\t3 & 18502426 & Male   & 55 &  TRUE & FALSE & yes & no  & yes & 1 & 1 & 2017 & 8 & 1 & 2017 & NA & NA &   NA\\\\\n\t4 & 25568498 & Male   & 53 &  TRUE & FALSE & yes & yes & yes & 1 & 1 & 2017 & 2 & 1 & 2017 & NA & NA &   NA\\\\\n\t5 & 25664763 & Male   & 77 &  TRUE & FALSE & no  & no  & no  & 1 & 1 & 2017 & 3 & 1 & 2017 & 10 & 11 & 2017\\\\\n\t6 & 26536597 & Male   & 47 &  TRUE & FALSE & yes & no  & yes & 1 & 1 & 2017 & 6 & 1 & 2017 & NA & NA &   NA\\\\\n\\end{tabular}\n",
            "text/plain": [
              "  id       sex    age pci   pstroke dlp dm  ht  d_adm m_adm y_adm d_dsc m_dsc\n",
              "1 14546825 Female 46  FALSE FALSE   no  yes no  1     1     2017  5     1    \n",
              "2 17116169 Male   51   TRUE FALSE   no  no  no  1     1     2017  6     1    \n",
              "3 18502426 Male   55   TRUE FALSE   yes no  yes 1     1     2017  8     1    \n",
              "4 25568498 Male   53   TRUE FALSE   yes yes yes 1     1     2017  2     1    \n",
              "5 25664763 Male   77   TRUE FALSE   no  no  no  1     1     2017  3     1    \n",
              "6 26536597 Male   47   TRUE FALSE   yes no  yes 1     1     2017  6     1    \n",
              "  y_dsc d_death m_death y_death\n",
              "1 2017  NA      NA        NA   \n",
              "2 2017  NA      NA        NA   \n",
              "3 2017  NA      NA        NA   \n",
              "4 2017  NA      NA        NA   \n",
              "5 2017  10      11      2017   \n",
              "6 2017  NA      NA        NA   "
            ]
          },
          "metadata": {}
        }
      ]
    },
    {
      "cell_type": "markdown",
      "source": [
        "ไฟล์ excel"
      ],
      "metadata": {
        "id": "aEGHQDc37UgY"
      }
    },
    {
      "cell_type": "code",
      "source": [
        "temp <- tempfile()\n",
        "download.file(\"https://drive.usercontent.google.com/uc?id=1tGYjCezgZZ1K76_HKxV7Tb4IBDGX-1iD&authuser=0&export=download\", temp)\n",
        "stemi<-as.data.frame(read_excel(temp))"
      ],
      "metadata": {
        "id": "JWDvLE5s7lX_"
      },
      "execution_count": 16,
      "outputs": []
    },
    {
      "cell_type": "code",
      "source": [
        "head(stemi)"
      ],
      "metadata": {
        "colab": {
          "base_uri": "https://localhost:8080/",
          "height": 286
        },
        "id": "zHy665a_7u-X",
        "outputId": "a418d8ba-9ca1-4f7e-d090-6ecaaf620c43"
      },
      "execution_count": 17,
      "outputs": [
        {
          "output_type": "display_data",
          "data": {
            "text/html": [
              "<table class=\"dataframe\">\n",
              "<caption>A data.frame: 6 × 17</caption>\n",
              "<thead>\n",
              "\t<tr><th></th><th scope=col>id</th><th scope=col>sex</th><th scope=col>age</th><th scope=col>pci</th><th scope=col>pstroke</th><th scope=col>dlp</th><th scope=col>dm</th><th scope=col>ht</th><th scope=col>d_adm</th><th scope=col>m_adm</th><th scope=col>y_adm</th><th scope=col>d_dsc</th><th scope=col>m_dsc</th><th scope=col>y_dsc</th><th scope=col>d_death</th><th scope=col>m_death</th><th scope=col>y_death</th></tr>\n",
              "\t<tr><th></th><th scope=col>&lt;chr&gt;</th><th scope=col>&lt;chr&gt;</th><th scope=col>&lt;dbl&gt;</th><th scope=col>&lt;lgl&gt;</th><th scope=col>&lt;lgl&gt;</th><th scope=col>&lt;chr&gt;</th><th scope=col>&lt;chr&gt;</th><th scope=col>&lt;chr&gt;</th><th scope=col>&lt;dbl&gt;</th><th scope=col>&lt;dbl&gt;</th><th scope=col>&lt;dbl&gt;</th><th scope=col>&lt;dbl&gt;</th><th scope=col>&lt;dbl&gt;</th><th scope=col>&lt;dbl&gt;</th><th scope=col>&lt;dbl&gt;</th><th scope=col>&lt;dbl&gt;</th><th scope=col>&lt;dbl&gt;</th></tr>\n",
              "</thead>\n",
              "<tbody>\n",
              "\t<tr><th scope=row>1</th><td>14546825</td><td>Female</td><td>46</td><td>FALSE</td><td>FALSE</td><td>no </td><td>yes</td><td>no </td><td>1</td><td>1</td><td>2017</td><td>5</td><td>1</td><td>2017</td><td>NA</td><td>NA</td><td>  NA</td></tr>\n",
              "\t<tr><th scope=row>2</th><td>17116169</td><td>Male  </td><td>51</td><td> TRUE</td><td>FALSE</td><td>no </td><td>no </td><td>no </td><td>1</td><td>1</td><td>2017</td><td>6</td><td>1</td><td>2017</td><td>NA</td><td>NA</td><td>  NA</td></tr>\n",
              "\t<tr><th scope=row>3</th><td>18502426</td><td>Male  </td><td>55</td><td> TRUE</td><td>FALSE</td><td>yes</td><td>no </td><td>yes</td><td>1</td><td>1</td><td>2017</td><td>8</td><td>1</td><td>2017</td><td>NA</td><td>NA</td><td>  NA</td></tr>\n",
              "\t<tr><th scope=row>4</th><td>25568498</td><td>Male  </td><td>53</td><td> TRUE</td><td>FALSE</td><td>yes</td><td>yes</td><td>yes</td><td>1</td><td>1</td><td>2017</td><td>2</td><td>1</td><td>2017</td><td>NA</td><td>NA</td><td>  NA</td></tr>\n",
              "\t<tr><th scope=row>5</th><td>25664763</td><td>Male  </td><td>77</td><td> TRUE</td><td>FALSE</td><td>no </td><td>no </td><td>no </td><td>1</td><td>1</td><td>2017</td><td>3</td><td>1</td><td>2017</td><td>10</td><td>11</td><td>2017</td></tr>\n",
              "\t<tr><th scope=row>6</th><td>26536597</td><td>Male  </td><td>47</td><td> TRUE</td><td>FALSE</td><td>yes</td><td>no </td><td>yes</td><td>1</td><td>1</td><td>2017</td><td>6</td><td>1</td><td>2017</td><td>NA</td><td>NA</td><td>  NA</td></tr>\n",
              "</tbody>\n",
              "</table>\n"
            ],
            "text/markdown": "\nA data.frame: 6 × 17\n\n| <!--/--> | id &lt;chr&gt; | sex &lt;chr&gt; | age &lt;dbl&gt; | pci &lt;lgl&gt; | pstroke &lt;lgl&gt; | dlp &lt;chr&gt; | dm &lt;chr&gt; | ht &lt;chr&gt; | d_adm &lt;dbl&gt; | m_adm &lt;dbl&gt; | y_adm &lt;dbl&gt; | d_dsc &lt;dbl&gt; | m_dsc &lt;dbl&gt; | y_dsc &lt;dbl&gt; | d_death &lt;dbl&gt; | m_death &lt;dbl&gt; | y_death &lt;dbl&gt; |\n|---|---|---|---|---|---|---|---|---|---|---|---|---|---|---|---|---|---|\n| 1 | 14546825 | Female | 46 | FALSE | FALSE | no  | yes | no  | 1 | 1 | 2017 | 5 | 1 | 2017 | NA | NA |   NA |\n| 2 | 17116169 | Male   | 51 |  TRUE | FALSE | no  | no  | no  | 1 | 1 | 2017 | 6 | 1 | 2017 | NA | NA |   NA |\n| 3 | 18502426 | Male   | 55 |  TRUE | FALSE | yes | no  | yes | 1 | 1 | 2017 | 8 | 1 | 2017 | NA | NA |   NA |\n| 4 | 25568498 | Male   | 53 |  TRUE | FALSE | yes | yes | yes | 1 | 1 | 2017 | 2 | 1 | 2017 | NA | NA |   NA |\n| 5 | 25664763 | Male   | 77 |  TRUE | FALSE | no  | no  | no  | 1 | 1 | 2017 | 3 | 1 | 2017 | 10 | 11 | 2017 |\n| 6 | 26536597 | Male   | 47 |  TRUE | FALSE | yes | no  | yes | 1 | 1 | 2017 | 6 | 1 | 2017 | NA | NA |   NA |\n\n",
            "text/latex": "A data.frame: 6 × 17\n\\begin{tabular}{r|lllllllllllllllll}\n  & id & sex & age & pci & pstroke & dlp & dm & ht & d\\_adm & m\\_adm & y\\_adm & d\\_dsc & m\\_dsc & y\\_dsc & d\\_death & m\\_death & y\\_death\\\\\n  & <chr> & <chr> & <dbl> & <lgl> & <lgl> & <chr> & <chr> & <chr> & <dbl> & <dbl> & <dbl> & <dbl> & <dbl> & <dbl> & <dbl> & <dbl> & <dbl>\\\\\n\\hline\n\t1 & 14546825 & Female & 46 & FALSE & FALSE & no  & yes & no  & 1 & 1 & 2017 & 5 & 1 & 2017 & NA & NA &   NA\\\\\n\t2 & 17116169 & Male   & 51 &  TRUE & FALSE & no  & no  & no  & 1 & 1 & 2017 & 6 & 1 & 2017 & NA & NA &   NA\\\\\n\t3 & 18502426 & Male   & 55 &  TRUE & FALSE & yes & no  & yes & 1 & 1 & 2017 & 8 & 1 & 2017 & NA & NA &   NA\\\\\n\t4 & 25568498 & Male   & 53 &  TRUE & FALSE & yes & yes & yes & 1 & 1 & 2017 & 2 & 1 & 2017 & NA & NA &   NA\\\\\n\t5 & 25664763 & Male   & 77 &  TRUE & FALSE & no  & no  & no  & 1 & 1 & 2017 & 3 & 1 & 2017 & 10 & 11 & 2017\\\\\n\t6 & 26536597 & Male   & 47 &  TRUE & FALSE & yes & no  & yes & 1 & 1 & 2017 & 6 & 1 & 2017 & NA & NA &   NA\\\\\n\\end{tabular}\n",
            "text/plain": [
              "  id       sex    age pci   pstroke dlp dm  ht  d_adm m_adm y_adm d_dsc m_dsc\n",
              "1 14546825 Female 46  FALSE FALSE   no  yes no  1     1     2017  5     1    \n",
              "2 17116169 Male   51   TRUE FALSE   no  no  no  1     1     2017  6     1    \n",
              "3 18502426 Male   55   TRUE FALSE   yes no  yes 1     1     2017  8     1    \n",
              "4 25568498 Male   53   TRUE FALSE   yes yes yes 1     1     2017  2     1    \n",
              "5 25664763 Male   77   TRUE FALSE   no  no  no  1     1     2017  3     1    \n",
              "6 26536597 Male   47   TRUE FALSE   yes no  yes 1     1     2017  6     1    \n",
              "  y_dsc d_death m_death y_death\n",
              "1 2017  NA      NA        NA   \n",
              "2 2017  NA      NA        NA   \n",
              "3 2017  NA      NA        NA   \n",
              "4 2017  NA      NA        NA   \n",
              "5 2017  10      11      2017   \n",
              "6 2017  NA      NA        NA   "
            ]
          },
          "metadata": {}
        }
      ]
    },
    {
      "cell_type": "markdown",
      "source": [
        "ไฟล์จาก epidata"
      ],
      "metadata": {
        "id": "pjNvsMa573mA"
      }
    },
    {
      "cell_type": "code",
      "source": [
        "temp <- tempfile()\n",
        "download.file(\"https://drive.usercontent.google.com/uc?id=1C60GbJeH3TGCCayaKfdiO6Pc8mr6yhGn&authuser=0&export=download\", temp)\n",
        "stemi<-read.dta(temp)"
      ],
      "metadata": {
        "id": "f1JHzZct77AH"
      },
      "execution_count": 51,
      "outputs": []
    },
    {
      "cell_type": "code",
      "source": [
        "head(stemi)"
      ],
      "metadata": {
        "colab": {
          "base_uri": "https://localhost:8080/",
          "height": 286
        },
        "id": "JE-7f-1d8Zzv",
        "outputId": "02e27137-be5c-4c91-c651-cbc966622118"
      },
      "execution_count": 23,
      "outputs": [
        {
          "output_type": "display_data",
          "data": {
            "text/html": [
              "<table class=\"dataframe\">\n",
              "<caption>A data.frame: 6 × 17</caption>\n",
              "<thead>\n",
              "\t<tr><th></th><th scope=col>id</th><th scope=col>sex</th><th scope=col>age</th><th scope=col>pci</th><th scope=col>pstroke</th><th scope=col>dlp</th><th scope=col>dm</th><th scope=col>ht</th><th scope=col>d_adm</th><th scope=col>m_adm</th><th scope=col>y_adm</th><th scope=col>d_dsc</th><th scope=col>m_dsc</th><th scope=col>y_dsc</th><th scope=col>d_death</th><th scope=col>m_death</th><th scope=col>y_death</th></tr>\n",
              "\t<tr><th></th><th scope=col>&lt;chr&gt;</th><th scope=col>&lt;chr&gt;</th><th scope=col>&lt;int&gt;</th><th scope=col>&lt;int&gt;</th><th scope=col>&lt;int&gt;</th><th scope=col>&lt;chr&gt;</th><th scope=col>&lt;chr&gt;</th><th scope=col>&lt;chr&gt;</th><th scope=col>&lt;int&gt;</th><th scope=col>&lt;int&gt;</th><th scope=col>&lt;int&gt;</th><th scope=col>&lt;int&gt;</th><th scope=col>&lt;int&gt;</th><th scope=col>&lt;int&gt;</th><th scope=col>&lt;int&gt;</th><th scope=col>&lt;int&gt;</th><th scope=col>&lt;int&gt;</th></tr>\n",
              "</thead>\n",
              "<tbody>\n",
              "\t<tr><th scope=row>1</th><td>14546825</td><td>Female</td><td>46</td><td>0</td><td>0</td><td>no </td><td>yes</td><td>no </td><td>1</td><td>1</td><td>2017</td><td>5</td><td>1</td><td>2017</td><td>NA</td><td>NA</td><td>  NA</td></tr>\n",
              "\t<tr><th scope=row>2</th><td>17116169</td><td>Male  </td><td>51</td><td>1</td><td>0</td><td>no </td><td>no </td><td>no </td><td>1</td><td>1</td><td>2017</td><td>6</td><td>1</td><td>2017</td><td>NA</td><td>NA</td><td>  NA</td></tr>\n",
              "\t<tr><th scope=row>3</th><td>18502426</td><td>Male  </td><td>55</td><td>1</td><td>0</td><td>yes</td><td>no </td><td>yes</td><td>1</td><td>1</td><td>2017</td><td>8</td><td>1</td><td>2017</td><td>NA</td><td>NA</td><td>  NA</td></tr>\n",
              "\t<tr><th scope=row>4</th><td>25568498</td><td>Male  </td><td>53</td><td>1</td><td>0</td><td>yes</td><td>yes</td><td>yes</td><td>1</td><td>1</td><td>2017</td><td>2</td><td>1</td><td>2017</td><td>NA</td><td>NA</td><td>  NA</td></tr>\n",
              "\t<tr><th scope=row>5</th><td>25664763</td><td>Male  </td><td>77</td><td>1</td><td>0</td><td>no </td><td>no </td><td>no </td><td>1</td><td>1</td><td>2017</td><td>3</td><td>1</td><td>2017</td><td>10</td><td>11</td><td>2017</td></tr>\n",
              "\t<tr><th scope=row>6</th><td>26536597</td><td>Male  </td><td>47</td><td>1</td><td>0</td><td>yes</td><td>no </td><td>yes</td><td>1</td><td>1</td><td>2017</td><td>6</td><td>1</td><td>2017</td><td>NA</td><td>NA</td><td>  NA</td></tr>\n",
              "</tbody>\n",
              "</table>\n"
            ],
            "text/markdown": "\nA data.frame: 6 × 17\n\n| <!--/--> | id &lt;chr&gt; | sex &lt;chr&gt; | age &lt;int&gt; | pci &lt;int&gt; | pstroke &lt;int&gt; | dlp &lt;chr&gt; | dm &lt;chr&gt; | ht &lt;chr&gt; | d_adm &lt;int&gt; | m_adm &lt;int&gt; | y_adm &lt;int&gt; | d_dsc &lt;int&gt; | m_dsc &lt;int&gt; | y_dsc &lt;int&gt; | d_death &lt;int&gt; | m_death &lt;int&gt; | y_death &lt;int&gt; |\n|---|---|---|---|---|---|---|---|---|---|---|---|---|---|---|---|---|---|\n| 1 | 14546825 | Female | 46 | 0 | 0 | no  | yes | no  | 1 | 1 | 2017 | 5 | 1 | 2017 | NA | NA |   NA |\n| 2 | 17116169 | Male   | 51 | 1 | 0 | no  | no  | no  | 1 | 1 | 2017 | 6 | 1 | 2017 | NA | NA |   NA |\n| 3 | 18502426 | Male   | 55 | 1 | 0 | yes | no  | yes | 1 | 1 | 2017 | 8 | 1 | 2017 | NA | NA |   NA |\n| 4 | 25568498 | Male   | 53 | 1 | 0 | yes | yes | yes | 1 | 1 | 2017 | 2 | 1 | 2017 | NA | NA |   NA |\n| 5 | 25664763 | Male   | 77 | 1 | 0 | no  | no  | no  | 1 | 1 | 2017 | 3 | 1 | 2017 | 10 | 11 | 2017 |\n| 6 | 26536597 | Male   | 47 | 1 | 0 | yes | no  | yes | 1 | 1 | 2017 | 6 | 1 | 2017 | NA | NA |   NA |\n\n",
            "text/latex": "A data.frame: 6 × 17\n\\begin{tabular}{r|lllllllllllllllll}\n  & id & sex & age & pci & pstroke & dlp & dm & ht & d\\_adm & m\\_adm & y\\_adm & d\\_dsc & m\\_dsc & y\\_dsc & d\\_death & m\\_death & y\\_death\\\\\n  & <chr> & <chr> & <int> & <int> & <int> & <chr> & <chr> & <chr> & <int> & <int> & <int> & <int> & <int> & <int> & <int> & <int> & <int>\\\\\n\\hline\n\t1 & 14546825 & Female & 46 & 0 & 0 & no  & yes & no  & 1 & 1 & 2017 & 5 & 1 & 2017 & NA & NA &   NA\\\\\n\t2 & 17116169 & Male   & 51 & 1 & 0 & no  & no  & no  & 1 & 1 & 2017 & 6 & 1 & 2017 & NA & NA &   NA\\\\\n\t3 & 18502426 & Male   & 55 & 1 & 0 & yes & no  & yes & 1 & 1 & 2017 & 8 & 1 & 2017 & NA & NA &   NA\\\\\n\t4 & 25568498 & Male   & 53 & 1 & 0 & yes & yes & yes & 1 & 1 & 2017 & 2 & 1 & 2017 & NA & NA &   NA\\\\\n\t5 & 25664763 & Male   & 77 & 1 & 0 & no  & no  & no  & 1 & 1 & 2017 & 3 & 1 & 2017 & 10 & 11 & 2017\\\\\n\t6 & 26536597 & Male   & 47 & 1 & 0 & yes & no  & yes & 1 & 1 & 2017 & 6 & 1 & 2017 & NA & NA &   NA\\\\\n\\end{tabular}\n",
            "text/plain": [
              "  id       sex    age pci pstroke dlp dm  ht  d_adm m_adm y_adm d_dsc m_dsc\n",
              "1 14546825 Female 46  0   0       no  yes no  1     1     2017  5     1    \n",
              "2 17116169 Male   51  1   0       no  no  no  1     1     2017  6     1    \n",
              "3 18502426 Male   55  1   0       yes no  yes 1     1     2017  8     1    \n",
              "4 25568498 Male   53  1   0       yes yes yes 1     1     2017  2     1    \n",
              "5 25664763 Male   77  1   0       no  no  no  1     1     2017  3     1    \n",
              "6 26536597 Male   47  1   0       yes no  yes 1     1     2017  6     1    \n",
              "  y_dsc d_death m_death y_death\n",
              "1 2017  NA      NA        NA   \n",
              "2 2017  NA      NA        NA   \n",
              "3 2017  NA      NA        NA   \n",
              "4 2017  NA      NA        NA   \n",
              "5 2017  10      11      2017   \n",
              "6 2017  NA      NA        NA   "
            ]
          },
          "metadata": {}
        }
      ]
    },
    {
      "cell_type": "markdown",
      "source": [
        "Population: patients with first STEMI\n",
        "\n",
        "Exposure of interest: PCI (1) vs Medication tx only (0)\n",
        "\n",
        "Outcome: mortality rate after discharge\n",
        "\n",
        "Confounders:\n",
        "\n",
        "• previous stroke: pstroke\n",
        "\n",
        "• dyslipidemia: dlp\n",
        "\n",
        "• DM: dm\n",
        "\n",
        "• HT: ht\n",
        "\n",
        "Analysis: time to event\n",
        "\n",
        "• Start: date of discharge\n",
        "\n",
        "• End: death date\n",
        "\n",
        "• death status\n",
        "\n",
        "Demographic data required:\n",
        "These data stratified by pci\n",
        "\n",
        "• age\n",
        "\n",
        "• sex\n",
        "\n",
        "• underlying diseases\n",
        "- pstroke\n",
        "- dlp\n",
        "- dm\n",
        "- ht\n",
        "\n",
        "• length of hospital stay"
      ],
      "metadata": {
        "id": "M-Mp-EemAX0J"
      }
    },
    {
      "cell_type": "markdown",
      "source": [
        "## **Check variables**"
      ],
      "metadata": {
        "id": "Csad1RHG8fx2"
      }
    },
    {
      "cell_type": "code",
      "source": [
        "glimpse(stemi)"
      ],
      "metadata": {
        "colab": {
          "base_uri": "https://localhost:8080/"
        },
        "id": "MVKFaNZL8hqv",
        "outputId": "b8ce30c5-fdeb-46d4-85c3-c53e93ee7883"
      },
      "execution_count": 52,
      "outputs": [
        {
          "output_type": "stream",
          "name": "stdout",
          "text": [
            "Rows: 16,843\n",
            "Columns: 17\n",
            "$ id      \u001b[3m\u001b[90m<chr>\u001b[39m\u001b[23m \"14546825\", \"17116169\", \"18502426\", \"25568498\", \"25664763\", \"2…\n",
            "$ sex     \u001b[3m\u001b[90m<chr>\u001b[39m\u001b[23m \"Female\", \"Male\", \"Male\", \"Male\", \"Male\", \"Male\", \"Male\", \"Mal…\n",
            "$ age     \u001b[3m\u001b[90m<int>\u001b[39m\u001b[23m 46, 51, 55, 53, 77, 47, 49, 54, 73, 63, 64, 92, 84, 83, 83, 49…\n",
            "$ pci     \u001b[3m\u001b[90m<int>\u001b[39m\u001b[23m 0, 1, 1, 1, 1, 1, 1, 1, 0, 1, 0, 1, 1, 1, 1, 1, 0, 0, 1, 1, 1,…\n",
            "$ pstroke \u001b[3m\u001b[90m<int>\u001b[39m\u001b[23m 0, 0, 0, 0, 0, 0, 0, 0, 0, 0, 0, 0, 0, 0, 0, 0, 0, 0, 0, 0, 0,…\n",
            "$ dlp     \u001b[3m\u001b[90m<chr>\u001b[39m\u001b[23m \"no\", \"no\", \"yes\", \"yes\", \"no\", \"yes\", \"no\", \"no\", \"no\", \"yes\"…\n",
            "$ dm      \u001b[3m\u001b[90m<chr>\u001b[39m\u001b[23m \"yes\", \"no\", \"no\", \"yes\", \"no\", \"no\", \"no\", \"no\", \"no\", \"no\", …\n",
            "$ ht      \u001b[3m\u001b[90m<chr>\u001b[39m\u001b[23m \"no\", \"no\", \"yes\", \"yes\", \"no\", \"yes\", \"no\", \"no\", \"no\", \"yes\"…\n",
            "$ d_adm   \u001b[3m\u001b[90m<int>\u001b[39m\u001b[23m 1, 1, 1, 1, 1, 1, 1, 1, 1, 1, 1, 1, 1, 1, 1, 1, 1, 1, 1, 1, 1,…\n",
            "$ m_adm   \u001b[3m\u001b[90m<int>\u001b[39m\u001b[23m 1, 1, 1, 1, 1, 1, 1, 1, 1, 1, 1, 1, 1, 1, 1, 1, 1, 1, 1, 1, 1,…\n",
            "$ y_adm   \u001b[3m\u001b[90m<int>\u001b[39m\u001b[23m 2017, 2017, 2017, 2017, 2017, 2017, 2017, 2017, 2017, 2017, 20…\n",
            "$ d_dsc   \u001b[3m\u001b[90m<int>\u001b[39m\u001b[23m 5, 6, 8, 2, 3, 6, 19, 1, 19, 7, 4, 3, 7, 12, 12, 19, 1, 1, 4, …\n",
            "$ m_dsc   \u001b[3m\u001b[90m<int>\u001b[39m\u001b[23m 1, 1, 1, 1, 1, 1, 1, 1, 2, 1, 1, 1, 1, 1, 1, 1, 1, 1, 1, 1, 1,…\n",
            "$ y_dsc   \u001b[3m\u001b[90m<int>\u001b[39m\u001b[23m 2017, 2017, 2017, 2017, 2017, 2017, 2017, 2017, 2017, 2017, 20…\n",
            "$ d_death \u001b[3m\u001b[90m<int>\u001b[39m\u001b[23m NA, NA, NA, NA, 10, NA, NA, 1, 19, NA, NA, NA, NA, 22, 22, NA,…\n",
            "$ m_death \u001b[3m\u001b[90m<int>\u001b[39m\u001b[23m NA, NA, NA, NA, 11, NA, NA, 1, 2, NA, NA, NA, NA, 9, 9, NA, 1,…\n",
            "$ y_death \u001b[3m\u001b[90m<int>\u001b[39m\u001b[23m NA, NA, NA, NA, 2017, NA, NA, 2017, 2017, NA, NA, NA, NA, 2018…\n"
          ]
        }
      ]
    },
    {
      "cell_type": "markdown",
      "source": [
        "ตรวจสอบ id ซ้ำ"
      ],
      "metadata": {
        "id": "eciw3DmT9c-X"
      }
    },
    {
      "cell_type": "code",
      "source": [
        "sum(duplicated(stemi$id))"
      ],
      "metadata": {
        "colab": {
          "base_uri": "https://localhost:8080/",
          "height": 34
        },
        "id": "zNu3SZrm9fw3",
        "outputId": "3918798f-e568-466b-82a8-82a6d0c7516c"
      },
      "execution_count": 53,
      "outputs": [
        {
          "output_type": "display_data",
          "data": {
            "text/html": [
              "0"
            ],
            "text/markdown": "0",
            "text/latex": "0",
            "text/plain": [
              "[1] 0"
            ]
          },
          "metadata": {}
        }
      ]
    },
    {
      "cell_type": "markdown",
      "source": [
        "สร้าง date of admission"
      ],
      "metadata": {
        "id": "ih7KiSWWCfco"
      }
    },
    {
      "cell_type": "code",
      "source": [
        "stemi$adm_date<-dmy(paste(stemi$d_adm,stemi$m_adm,stemi$y_adm,sep=\"-\"))"
      ],
      "metadata": {
        "id": "dOtcz-QGCjZ3"
      },
      "execution_count": 54,
      "outputs": []
    },
    {
      "cell_type": "markdown",
      "source": [
        "สร้าง date of discharge"
      ],
      "metadata": {
        "id": "50kAleCwEIiY"
      }
    },
    {
      "cell_type": "code",
      "source": [
        "stemi$dsc_date<-dmy(paste(stemi$d_dsc,stemi$m_dsc,stemi$y_dsc,sep=\"-\"))"
      ],
      "metadata": {
        "id": "Si4cSBJNDZdo"
      },
      "execution_count": 55,
      "outputs": []
    },
    {
      "cell_type": "markdown",
      "source": [
        "สร้าง date of death"
      ],
      "metadata": {
        "id": "KS8x26GDEK3O"
      }
    },
    {
      "cell_type": "code",
      "source": [
        "stemi$death_date<-dmy(paste(stemi$d_death,stemi$m_death,stemi$y_death,sep=\"-\"))"
      ],
      "metadata": {
        "colab": {
          "base_uri": "https://localhost:8080/"
        },
        "id": "MSPzbhMVEl1Y",
        "outputId": "1bbc7528-12cb-4c76-f41b-1eebfe056fe1"
      },
      "execution_count": 56,
      "outputs": [
        {
          "output_type": "stream",
          "name": "stderr",
          "text": [
            "Warning message:\n",
            "“ 11946 failed to parse.”\n"
          ]
        }
      ]
    },
    {
      "cell_type": "markdown",
      "source": [
        "ลบตัวแปรที่ไม่ใช้แล้วออกจาก dataframe"
      ],
      "metadata": {
        "id": "wBHWOcSxEzZ4"
      }
    },
    {
      "cell_type": "code",
      "source": [
        "stemi<-stemi[,!(names(stemi) %in% c(\"d_adm\",\"m_adm\",\"y_adm\",\"d_dsc\",\"m_dsc\",\"y_dsc\",\"d_death\",\"m_death\",\"y_death\"))]"
      ],
      "metadata": {
        "id": "upTrHbvfE2GI"
      },
      "execution_count": 57,
      "outputs": []
    },
    {
      "cell_type": "code",
      "source": [
        "head(stemi)"
      ],
      "metadata": {
        "colab": {
          "base_uri": "https://localhost:8080/",
          "height": 286
        },
        "id": "YIu5U_j2F7FE",
        "outputId": "7496bf58-7350-43c5-c959-509b108bc4a8"
      },
      "execution_count": 58,
      "outputs": [
        {
          "output_type": "display_data",
          "data": {
            "text/html": [
              "<table class=\"dataframe\">\n",
              "<caption>A data.frame: 6 × 11</caption>\n",
              "<thead>\n",
              "\t<tr><th></th><th scope=col>id</th><th scope=col>sex</th><th scope=col>age</th><th scope=col>pci</th><th scope=col>pstroke</th><th scope=col>dlp</th><th scope=col>dm</th><th scope=col>ht</th><th scope=col>adm_date</th><th scope=col>dsc_date</th><th scope=col>death_date</th></tr>\n",
              "\t<tr><th></th><th scope=col>&lt;chr&gt;</th><th scope=col>&lt;chr&gt;</th><th scope=col>&lt;int&gt;</th><th scope=col>&lt;int&gt;</th><th scope=col>&lt;int&gt;</th><th scope=col>&lt;chr&gt;</th><th scope=col>&lt;chr&gt;</th><th scope=col>&lt;chr&gt;</th><th scope=col>&lt;date&gt;</th><th scope=col>&lt;date&gt;</th><th scope=col>&lt;date&gt;</th></tr>\n",
              "</thead>\n",
              "<tbody>\n",
              "\t<tr><th scope=row>1</th><td>14546825</td><td>Female</td><td>46</td><td>0</td><td>0</td><td>no </td><td>yes</td><td>no </td><td>2017-01-01</td><td>2017-01-05</td><td>NA</td></tr>\n",
              "\t<tr><th scope=row>2</th><td>17116169</td><td>Male  </td><td>51</td><td>1</td><td>0</td><td>no </td><td>no </td><td>no </td><td>2017-01-01</td><td>2017-01-06</td><td>NA</td></tr>\n",
              "\t<tr><th scope=row>3</th><td>18502426</td><td>Male  </td><td>55</td><td>1</td><td>0</td><td>yes</td><td>no </td><td>yes</td><td>2017-01-01</td><td>2017-01-08</td><td>NA</td></tr>\n",
              "\t<tr><th scope=row>4</th><td>25568498</td><td>Male  </td><td>53</td><td>1</td><td>0</td><td>yes</td><td>yes</td><td>yes</td><td>2017-01-01</td><td>2017-01-02</td><td>NA</td></tr>\n",
              "\t<tr><th scope=row>5</th><td>25664763</td><td>Male  </td><td>77</td><td>1</td><td>0</td><td>no </td><td>no </td><td>no </td><td>2017-01-01</td><td>2017-01-03</td><td>2017-11-10</td></tr>\n",
              "\t<tr><th scope=row>6</th><td>26536597</td><td>Male  </td><td>47</td><td>1</td><td>0</td><td>yes</td><td>no </td><td>yes</td><td>2017-01-01</td><td>2017-01-06</td><td>NA</td></tr>\n",
              "</tbody>\n",
              "</table>\n"
            ],
            "text/markdown": "\nA data.frame: 6 × 11\n\n| <!--/--> | id &lt;chr&gt; | sex &lt;chr&gt; | age &lt;int&gt; | pci &lt;int&gt; | pstroke &lt;int&gt; | dlp &lt;chr&gt; | dm &lt;chr&gt; | ht &lt;chr&gt; | adm_date &lt;date&gt; | dsc_date &lt;date&gt; | death_date &lt;date&gt; |\n|---|---|---|---|---|---|---|---|---|---|---|---|\n| 1 | 14546825 | Female | 46 | 0 | 0 | no  | yes | no  | 2017-01-01 | 2017-01-05 | NA |\n| 2 | 17116169 | Male   | 51 | 1 | 0 | no  | no  | no  | 2017-01-01 | 2017-01-06 | NA |\n| 3 | 18502426 | Male   | 55 | 1 | 0 | yes | no  | yes | 2017-01-01 | 2017-01-08 | NA |\n| 4 | 25568498 | Male   | 53 | 1 | 0 | yes | yes | yes | 2017-01-01 | 2017-01-02 | NA |\n| 5 | 25664763 | Male   | 77 | 1 | 0 | no  | no  | no  | 2017-01-01 | 2017-01-03 | 2017-11-10 |\n| 6 | 26536597 | Male   | 47 | 1 | 0 | yes | no  | yes | 2017-01-01 | 2017-01-06 | NA |\n\n",
            "text/latex": "A data.frame: 6 × 11\n\\begin{tabular}{r|lllllllllll}\n  & id & sex & age & pci & pstroke & dlp & dm & ht & adm\\_date & dsc\\_date & death\\_date\\\\\n  & <chr> & <chr> & <int> & <int> & <int> & <chr> & <chr> & <chr> & <date> & <date> & <date>\\\\\n\\hline\n\t1 & 14546825 & Female & 46 & 0 & 0 & no  & yes & no  & 2017-01-01 & 2017-01-05 & NA\\\\\n\t2 & 17116169 & Male   & 51 & 1 & 0 & no  & no  & no  & 2017-01-01 & 2017-01-06 & NA\\\\\n\t3 & 18502426 & Male   & 55 & 1 & 0 & yes & no  & yes & 2017-01-01 & 2017-01-08 & NA\\\\\n\t4 & 25568498 & Male   & 53 & 1 & 0 & yes & yes & yes & 2017-01-01 & 2017-01-02 & NA\\\\\n\t5 & 25664763 & Male   & 77 & 1 & 0 & no  & no  & no  & 2017-01-01 & 2017-01-03 & 2017-11-10\\\\\n\t6 & 26536597 & Male   & 47 & 1 & 0 & yes & no  & yes & 2017-01-01 & 2017-01-06 & NA\\\\\n\\end{tabular}\n",
            "text/plain": [
              "  id       sex    age pci pstroke dlp dm  ht  adm_date   dsc_date   death_date\n",
              "1 14546825 Female 46  0   0       no  yes no  2017-01-01 2017-01-05 <NA>      \n",
              "2 17116169 Male   51  1   0       no  no  no  2017-01-01 2017-01-06 <NA>      \n",
              "3 18502426 Male   55  1   0       yes no  yes 2017-01-01 2017-01-08 <NA>      \n",
              "4 25568498 Male   53  1   0       yes yes yes 2017-01-01 2017-01-02 <NA>      \n",
              "5 25664763 Male   77  1   0       no  no  no  2017-01-01 2017-01-03 2017-11-10\n",
              "6 26536597 Male   47  1   0       yes no  yes 2017-01-01 2017-01-06 <NA>      "
            ]
          },
          "metadata": {}
        }
      ]
    },
    {
      "cell_type": "markdown",
      "source": [
        "exclude inhospital death"
      ],
      "metadata": {
        "id": "uHHqz9iqGWAg"
      }
    },
    {
      "cell_type": "code",
      "source": [
        "nrow(stemi)"
      ],
      "metadata": {
        "colab": {
          "base_uri": "https://localhost:8080/",
          "height": 34
        },
        "id": "1JKr9uSOG0Y3",
        "outputId": "371647ae-7399-4de5-c5af-34771d194759"
      },
      "execution_count": 59,
      "outputs": [
        {
          "output_type": "display_data",
          "data": {
            "text/html": [
              "16843"
            ],
            "text/markdown": "16843",
            "text/latex": "16843",
            "text/plain": [
              "[1] 16843"
            ]
          },
          "metadata": {}
        }
      ]
    },
    {
      "cell_type": "code",
      "source": [
        "stemi<-stemi[stemi$death_date>stemi$dsc_date | is.na(stemi$death_date),]"
      ],
      "metadata": {
        "id": "KzYBhEV5GYlo"
      },
      "execution_count": 60,
      "outputs": []
    },
    {
      "cell_type": "code",
      "source": [
        "nrow(stemi)"
      ],
      "metadata": {
        "colab": {
          "base_uri": "https://localhost:8080/",
          "height": 34
        },
        "id": "0nLkqy2QG2ZH",
        "outputId": "084fdbcb-8ddd-442b-d6f6-1065fc86c4ec"
      },
      "execution_count": 61,
      "outputs": [
        {
          "output_type": "display_data",
          "data": {
            "text/html": [
              "14826"
            ],
            "text/markdown": "14826",
            "text/latex": "14826",
            "text/plain": [
              "[1] 14826"
            ]
          },
          "metadata": {}
        }
      ]
    },
    {
      "cell_type": "markdown",
      "source": [
        "Excluded individuals ="
      ],
      "metadata": {
        "id": "PByFm5vhG6Lg"
      }
    },
    {
      "cell_type": "code",
      "source": [
        "16843 - 14826"
      ],
      "metadata": {
        "colab": {
          "base_uri": "https://localhost:8080/",
          "height": 34
        },
        "id": "wX3eaJCxG9jn",
        "outputId": "24a34a8a-92af-4ea5-b503-80c16656fd31"
      },
      "execution_count": 62,
      "outputs": [
        {
          "output_type": "display_data",
          "data": {
            "text/html": [
              "2017"
            ],
            "text/markdown": "2017",
            "text/latex": "2017",
            "text/plain": [
              "[1] 2017"
            ]
          },
          "metadata": {}
        }
      ]
    },
    {
      "cell_type": "markdown",
      "source": [
        "สร้างตัวแปร death status"
      ],
      "metadata": {
        "id": "p4nvgD4hGC13"
      }
    },
    {
      "cell_type": "code",
      "source": [
        "stemi$death<-!is.na(stemi$death_date)"
      ],
      "metadata": {
        "id": "kxxoVGPpH7R3"
      },
      "execution_count": 63,
      "outputs": []
    },
    {
      "cell_type": "markdown",
      "source": [
        "สร้างตัวแปร length of hospital stay"
      ],
      "metadata": {
        "id": "aFdUx64mHOmQ"
      }
    },
    {
      "cell_type": "code",
      "source": [
        "stemi$los<-interval(stemi$adm_date,stemi$dsc_date)/duration(1,\"days\")"
      ],
      "metadata": {
        "id": "DQOdU6PcHSlA"
      },
      "execution_count": 64,
      "outputs": []
    },
    {
      "cell_type": "markdown",
      "source": [
        "## **Check missing data**"
      ],
      "metadata": {
        "id": "oDAk4yhM8qEY"
      }
    },
    {
      "cell_type": "code",
      "source": [
        "missing_values <- colSums(is.na(stemi)) #เอาชื่อ dataframe ไปแทนในวงเล็กของ is.na()\n",
        "for (column in names(missing_values)) {\n",
        "  cat(column, \":\", missing_values[column], \"\\n\")\n",
        "}"
      ],
      "metadata": {
        "colab": {
          "base_uri": "https://localhost:8080/"
        },
        "id": "39uSSFrQ9CPY",
        "outputId": "8bc8d007-b839-4a79-d115-6bacf95f3fb9"
      },
      "execution_count": 65,
      "outputs": [
        {
          "output_type": "stream",
          "name": "stdout",
          "text": [
            "id : 0 \n",
            "sex : 0 \n",
            "age : 0 \n",
            "pci : 0 \n",
            "pstroke : 0 \n",
            "dlp : 0 \n",
            "dm : 0 \n",
            "ht : 0 \n",
            "adm_date : 0 \n",
            "dsc_date : 0 \n",
            "death_date : 11946 \n",
            "death : 0 \n",
            "los : 0 \n"
          ]
        }
      ]
    },
    {
      "cell_type": "markdown",
      "source": [
        "## **Check data format & Data manipulation**"
      ],
      "metadata": {
        "id": "Tc0tVeK2-YTm"
      }
    },
    {
      "cell_type": "code",
      "source": [
        "glimpse(stemi)"
      ],
      "metadata": {
        "colab": {
          "base_uri": "https://localhost:8080/"
        },
        "id": "c6mQcUi2-8hn",
        "outputId": "491e8d78-b47b-4eed-c680-4cad13e52fcc"
      },
      "execution_count": 24,
      "outputs": [
        {
          "output_type": "stream",
          "name": "stdout",
          "text": [
            "Rows: 16,843\n",
            "Columns: 17\n",
            "$ id      \u001b[3m\u001b[90m<chr>\u001b[39m\u001b[23m \"14546825\", \"17116169\", \"18502426\", \"25568498\", \"25664763\", \"2…\n",
            "$ sex     \u001b[3m\u001b[90m<chr>\u001b[39m\u001b[23m \"Female\", \"Male\", \"Male\", \"Male\", \"Male\", \"Male\", \"Male\", \"Mal…\n",
            "$ age     \u001b[3m\u001b[90m<int>\u001b[39m\u001b[23m 46, 51, 55, 53, 77, 47, 49, 54, 73, 63, 64, 92, 84, 83, 83, 49…\n",
            "$ pci     \u001b[3m\u001b[90m<int>\u001b[39m\u001b[23m 0, 1, 1, 1, 1, 1, 1, 1, 0, 1, 0, 1, 1, 1, 1, 1, 0, 0, 1, 1, 1,…\n",
            "$ pstroke \u001b[3m\u001b[90m<int>\u001b[39m\u001b[23m 0, 0, 0, 0, 0, 0, 0, 0, 0, 0, 0, 0, 0, 0, 0, 0, 0, 0, 0, 0, 0,…\n",
            "$ dlp     \u001b[3m\u001b[90m<chr>\u001b[39m\u001b[23m \"no\", \"no\", \"yes\", \"yes\", \"no\", \"yes\", \"no\", \"no\", \"no\", \"yes\"…\n",
            "$ dm      \u001b[3m\u001b[90m<chr>\u001b[39m\u001b[23m \"yes\", \"no\", \"no\", \"yes\", \"no\", \"no\", \"no\", \"no\", \"no\", \"no\", …\n",
            "$ ht      \u001b[3m\u001b[90m<chr>\u001b[39m\u001b[23m \"no\", \"no\", \"yes\", \"yes\", \"no\", \"yes\", \"no\", \"no\", \"no\", \"yes\"…\n",
            "$ d_adm   \u001b[3m\u001b[90m<int>\u001b[39m\u001b[23m 1, 1, 1, 1, 1, 1, 1, 1, 1, 1, 1, 1, 1, 1, 1, 1, 1, 1, 1, 1, 1,…\n",
            "$ m_adm   \u001b[3m\u001b[90m<int>\u001b[39m\u001b[23m 1, 1, 1, 1, 1, 1, 1, 1, 1, 1, 1, 1, 1, 1, 1, 1, 1, 1, 1, 1, 1,…\n",
            "$ y_adm   \u001b[3m\u001b[90m<int>\u001b[39m\u001b[23m 2017, 2017, 2017, 2017, 2017, 2017, 2017, 2017, 2017, 2017, 20…\n",
            "$ d_dsc   \u001b[3m\u001b[90m<int>\u001b[39m\u001b[23m 5, 6, 8, 2, 3, 6, 19, 1, 19, 7, 4, 3, 7, 12, 12, 19, 1, 1, 4, …\n",
            "$ m_dsc   \u001b[3m\u001b[90m<int>\u001b[39m\u001b[23m 1, 1, 1, 1, 1, 1, 1, 1, 2, 1, 1, 1, 1, 1, 1, 1, 1, 1, 1, 1, 1,…\n",
            "$ y_dsc   \u001b[3m\u001b[90m<int>\u001b[39m\u001b[23m 2017, 2017, 2017, 2017, 2017, 2017, 2017, 2017, 2017, 2017, 20…\n",
            "$ d_death \u001b[3m\u001b[90m<int>\u001b[39m\u001b[23m NA, NA, NA, NA, 10, NA, NA, 1, 19, NA, NA, NA, NA, 22, 22, NA,…\n",
            "$ m_death \u001b[3m\u001b[90m<int>\u001b[39m\u001b[23m NA, NA, NA, NA, 11, NA, NA, 1, 2, NA, NA, NA, NA, 9, 9, NA, 1,…\n",
            "$ y_death \u001b[3m\u001b[90m<int>\u001b[39m\u001b[23m NA, NA, NA, NA, 2017, NA, NA, 2017, 2017, NA, NA, NA, NA, 2018…\n"
          ]
        }
      ]
    },
    {
      "cell_type": "markdown",
      "source": [
        "**ตัวแปร sex**"
      ],
      "metadata": {
        "id": "zbxwgQNtABuf"
      }
    },
    {
      "cell_type": "code",
      "source": [
        "stemi$sex<-factor(stemi$sex,levels = c(\"Female\",\"Male\"))"
      ],
      "metadata": {
        "id": "SV8kdt8J_GUY"
      },
      "execution_count": 25,
      "outputs": []
    },
    {
      "cell_type": "code",
      "source": [
        "tab1(stemi$sex)"
      ],
      "metadata": {
        "colab": {
          "base_uri": "https://localhost:8080/",
          "height": 661
        },
        "id": "Xe69W3OB_hq_",
        "outputId": "a0bb2428-2867-4038-8f78-f8bdb52205c6"
      },
      "execution_count": 26,
      "outputs": [
        {
          "output_type": "display_data",
          "data": {
            "text/html": [
              "<dl>\n",
              "\t<dt>$first.line</dt>\n",
              "\t\t<dd>'stemi$sex : \\n'</dd>\n",
              "\t<dt>$output.table</dt>\n",
              "\t\t<dd><table class=\"dataframe\">\n",
              "<caption>A matrix: 3 × 3 of type dbl</caption>\n",
              "<thead>\n",
              "\t<tr><th></th><th scope=col>Frequency</th><th scope=col>Percent</th><th scope=col>Cum. percent</th></tr>\n",
              "</thead>\n",
              "<tbody>\n",
              "\t<tr><th scope=row>Female</th><td> 5028</td><td> 29.9</td><td> 29.9</td></tr>\n",
              "\t<tr><th scope=row>Male</th><td>11815</td><td> 70.1</td><td>100.0</td></tr>\n",
              "\t<tr><th scope=row>  Total</th><td>16843</td><td>100.0</td><td>100.0</td></tr>\n",
              "</tbody>\n",
              "</table>\n",
              "</dd>\n",
              "</dl>\n"
            ],
            "text/markdown": "$first.line\n:   'stemi$sex : \\n'\n$output.table\n:   \nA matrix: 3 × 3 of type dbl\n\n| <!--/--> | Frequency | Percent | Cum. percent |\n|---|---|---|---|\n| Female |  5028 |  29.9 |  29.9 |\n| Male | 11815 |  70.1 | 100.0 |\n|   Total | 16843 | 100.0 | 100.0 |\n\n\n\n\n",
            "text/latex": "\\begin{description}\n\\item[\\$first.line] 'stemi\\$sex : \\textbackslash{}n'\n\\item[\\$output.table] A matrix: 3 × 3 of type dbl\n\\begin{tabular}{r|lll}\n  & Frequency & Percent & Cum. percent\\\\\n\\hline\n\tFemale &  5028 &  29.9 &  29.9\\\\\n\tMale & 11815 &  70.1 & 100.0\\\\\n\t  Total & 16843 & 100.0 & 100.0\\\\\n\\end{tabular}\n\n\\end{description}\n",
            "text/plain": [
              "stemi$sex : \n",
              "        Frequency Percent Cum. percent\n",
              "Female       5028    29.9         29.9\n",
              "Male        11815    70.1        100.0\n",
              "  Total     16843   100.0        100.0"
            ]
          },
          "metadata": {}
        },
        {
          "output_type": "display_data",
          "data": {
            "text/plain": [
              "Plot with title “Distribution of stemi$sex”"
            ],
            "image/png": "[encoded data removed]"
          },
          "metadata": {
            "image/png": {
              "width": 420,
              "height": 420
            }
          }
        }
      ]
    },
    {
      "cell_type": "markdown",
      "source": [
        "**ตัวแปร age**"
      ],
      "metadata": {
        "id": "JYlQp7QuAJEO"
      }
    },
    {
      "cell_type": "code",
      "source": [
        "summary(stemi$age)"
      ],
      "metadata": {
        "colab": {
          "base_uri": "https://localhost:8080/",
          "height": 52
        },
        "id": "DlcYxkKQ_egA",
        "outputId": "f6e6f3ff-18cc-463f-8afc-17a955aef207"
      },
      "execution_count": 29,
      "outputs": [
        {
          "output_type": "display_data",
          "data": {
            "text/plain": [
              "   Min. 1st Qu.  Median    Mean 3rd Qu.    Max. \n",
              "  40.00   55.00   63.00   63.85   73.00  100.00 "
            ]
          },
          "metadata": {}
        }
      ]
    },
    {
      "cell_type": "code",
      "source": [
        "hist(stemi$age)"
      ],
      "metadata": {
        "colab": {
          "base_uri": "https://localhost:8080/",
          "height": 437
        },
        "id": "oHZLxK_6_2hv",
        "outputId": "84e96561-8fbe-4eed-c7f9-2f35a4602092"
      },
      "execution_count": 31,
      "outputs": [
        {
          "output_type": "display_data",
          "data": {
            "text/plain": [
              "Plot with title “Histogram of stemi$age”"
            ],
            "image/png": "[encoded data removed]"
          },
          "metadata": {
            "image/png": {
              "width": 420,
              "height": 420
            }
          }
        }
      ]
    },
    {
      "cell_type": "markdown",
      "source": [
        "**ตัวแปร pci**"
      ],
      "metadata": {
        "id": "a5EHgnEoAMNv"
      }
    },
    {
      "cell_type": "code",
      "source": [
        "stemi$pci<-stemi$pci==1"
      ],
      "metadata": {
        "id": "U1cK9mzlATZg"
      },
      "execution_count": 66,
      "outputs": []
    },
    {
      "cell_type": "code",
      "source": [
        "tab1(stemi$pci)"
      ],
      "metadata": {
        "colab": {
          "base_uri": "https://localhost:8080/",
          "height": 661
        },
        "id": "mPA0d1zUIvlq",
        "outputId": "88f8e6cb-5bf3-4bff-c6e8-84fa51f00e6f"
      },
      "execution_count": 67,
      "outputs": [
        {
          "output_type": "display_data",
          "data": {
            "text/html": [
              "<dl>\n",
              "\t<dt>$first.line</dt>\n",
              "\t\t<dd>'stemi$pci : \\n'</dd>\n",
              "\t<dt>$output.table</dt>\n",
              "\t\t<dd><table class=\"dataframe\">\n",
              "<caption>A matrix: 3 × 3 of type dbl</caption>\n",
              "<thead>\n",
              "\t<tr><th></th><th scope=col>Frequency</th><th scope=col>Percent</th><th scope=col>Cum. percent</th></tr>\n",
              "</thead>\n",
              "<tbody>\n",
              "\t<tr><th scope=row>FALSE</th><td> 2603</td><td> 17.6</td><td> 17.6</td></tr>\n",
              "\t<tr><th scope=row>TRUE</th><td>12223</td><td> 82.4</td><td>100.0</td></tr>\n",
              "\t<tr><th scope=row>  Total</th><td>14826</td><td>100.0</td><td>100.0</td></tr>\n",
              "</tbody>\n",
              "</table>\n",
              "</dd>\n",
              "</dl>\n"
            ],
            "text/markdown": "$first.line\n:   'stemi$pci : \\n'\n$output.table\n:   \nA matrix: 3 × 3 of type dbl\n\n| <!--/--> | Frequency | Percent | Cum. percent |\n|---|---|---|---|\n| FALSE |  2603 |  17.6 |  17.6 |\n| TRUE | 12223 |  82.4 | 100.0 |\n|   Total | 14826 | 100.0 | 100.0 |\n\n\n\n\n",
            "text/latex": "\\begin{description}\n\\item[\\$first.line] 'stemi\\$pci : \\textbackslash{}n'\n\\item[\\$output.table] A matrix: 3 × 3 of type dbl\n\\begin{tabular}{r|lll}\n  & Frequency & Percent & Cum. percent\\\\\n\\hline\n\tFALSE &  2603 &  17.6 &  17.6\\\\\n\tTRUE & 12223 &  82.4 & 100.0\\\\\n\t  Total & 14826 & 100.0 & 100.0\\\\\n\\end{tabular}\n\n\\end{description}\n",
            "text/plain": [
              "stemi$pci : \n",
              "        Frequency Percent Cum. percent\n",
              "FALSE        2603    17.6         17.6\n",
              "TRUE        12223    82.4        100.0\n",
              "  Total     14826   100.0        100.0"
            ]
          },
          "metadata": {}
        },
        {
          "output_type": "display_data",
          "data": {
            "text/plain": [
              "Plot with title “Distribution of stemi$pci”"
            ],
            "image/png": "[encoded data removed]"
          },
          "metadata": {
            "image/png": {
              "width": 420,
              "height": 420
            }
          }
        }
      ]
    },
    {
      "cell_type": "markdown",
      "source": [
        "**ตัวแปร pstroke**"
      ],
      "metadata": {
        "id": "1TxmkE9OIx5g"
      }
    },
    {
      "cell_type": "code",
      "source": [
        "stemi$pstroke<-stemi$pstroke==1"
      ],
      "metadata": {
        "id": "FpasEftVI3QY"
      },
      "execution_count": 68,
      "outputs": []
    },
    {
      "cell_type": "code",
      "source": [
        "tab1(stemi$pstroke)"
      ],
      "metadata": {
        "colab": {
          "base_uri": "https://localhost:8080/",
          "height": 661
        },
        "id": "j15AdYcuI615",
        "outputId": "f1814f8c-e8f5-4e1f-9613-b962be3fd9d9"
      },
      "execution_count": 69,
      "outputs": [
        {
          "output_type": "display_data",
          "data": {
            "text/html": [
              "<dl>\n",
              "\t<dt>$first.line</dt>\n",
              "\t\t<dd>'stemi$pstroke : \\n'</dd>\n",
              "\t<dt>$output.table</dt>\n",
              "\t\t<dd><table class=\"dataframe\">\n",
              "<caption>A matrix: 3 × 3 of type dbl</caption>\n",
              "<thead>\n",
              "\t<tr><th></th><th scope=col>Frequency</th><th scope=col>Percent</th><th scope=col>Cum. percent</th></tr>\n",
              "</thead>\n",
              "<tbody>\n",
              "\t<tr><th scope=row>FALSE</th><td>14417</td><td> 97.2</td><td> 97.2</td></tr>\n",
              "\t<tr><th scope=row>TRUE</th><td>  409</td><td>  2.8</td><td>100.0</td></tr>\n",
              "\t<tr><th scope=row>  Total</th><td>14826</td><td>100.0</td><td>100.0</td></tr>\n",
              "</tbody>\n",
              "</table>\n",
              "</dd>\n",
              "</dl>\n"
            ],
            "text/markdown": "$first.line\n:   'stemi$pstroke : \\n'\n$output.table\n:   \nA matrix: 3 × 3 of type dbl\n\n| <!--/--> | Frequency | Percent | Cum. percent |\n|---|---|---|---|\n| FALSE | 14417 |  97.2 |  97.2 |\n| TRUE |   409 |   2.8 | 100.0 |\n|   Total | 14826 | 100.0 | 100.0 |\n\n\n\n\n",
            "text/latex": "\\begin{description}\n\\item[\\$first.line] 'stemi\\$pstroke : \\textbackslash{}n'\n\\item[\\$output.table] A matrix: 3 × 3 of type dbl\n\\begin{tabular}{r|lll}\n  & Frequency & Percent & Cum. percent\\\\\n\\hline\n\tFALSE & 14417 &  97.2 &  97.2\\\\\n\tTRUE &   409 &   2.8 & 100.0\\\\\n\t  Total & 14826 & 100.0 & 100.0\\\\\n\\end{tabular}\n\n\\end{description}\n",
            "text/plain": [
              "stemi$pstroke : \n",
              "        Frequency Percent Cum. percent\n",
              "FALSE       14417    97.2         97.2\n",
              "TRUE          409     2.8        100.0\n",
              "  Total     14826   100.0        100.0"
            ]
          },
          "metadata": {}
        },
        {
          "output_type": "display_data",
          "data": {
            "text/plain": [
              "Plot with title “Distribution of stemi$pstroke”"
            ],
            "image/png": "[encoded data removed]"
          },
          "metadata": {
            "image/png": {
              "width": 420,
              "height": 420
            }
          }
        }
      ]
    },
    {
      "cell_type": "markdown",
      "source": [
        "ตัวแปร dlp"
      ],
      "metadata": {
        "id": "uv0KGN7EI_yo"
      }
    },
    {
      "cell_type": "code",
      "source": [
        "stemi$dlp<-stemi$dlp==\"yes\""
      ],
      "metadata": {
        "id": "YayrIL9-JCNw"
      },
      "execution_count": 70,
      "outputs": []
    },
    {
      "cell_type": "code",
      "source": [
        "tab1(stemi$pstroke)"
      ],
      "metadata": {
        "colab": {
          "base_uri": "https://localhost:8080/",
          "height": 661
        },
        "id": "A3wQEGCaJIbx",
        "outputId": "18a13d65-2e9e-4cb6-f35d-82372634fe43"
      },
      "execution_count": 71,
      "outputs": [
        {
          "output_type": "display_data",
          "data": {
            "text/html": [
              "<dl>\n",
              "\t<dt>$first.line</dt>\n",
              "\t\t<dd>'stemi$pstroke : \\n'</dd>\n",
              "\t<dt>$output.table</dt>\n",
              "\t\t<dd><table class=\"dataframe\">\n",
              "<caption>A matrix: 3 × 3 of type dbl</caption>\n",
              "<thead>\n",
              "\t<tr><th></th><th scope=col>Frequency</th><th scope=col>Percent</th><th scope=col>Cum. percent</th></tr>\n",
              "</thead>\n",
              "<tbody>\n",
              "\t<tr><th scope=row>FALSE</th><td>14417</td><td> 97.2</td><td> 97.2</td></tr>\n",
              "\t<tr><th scope=row>TRUE</th><td>  409</td><td>  2.8</td><td>100.0</td></tr>\n",
              "\t<tr><th scope=row>  Total</th><td>14826</td><td>100.0</td><td>100.0</td></tr>\n",
              "</tbody>\n",
              "</table>\n",
              "</dd>\n",
              "</dl>\n"
            ],
            "text/markdown": "$first.line\n:   'stemi$pstroke : \\n'\n$output.table\n:   \nA matrix: 3 × 3 of type dbl\n\n| <!--/--> | Frequency | Percent | Cum. percent |\n|---|---|---|---|\n| FALSE | 14417 |  97.2 |  97.2 |\n| TRUE |   409 |   2.8 | 100.0 |\n|   Total | 14826 | 100.0 | 100.0 |\n\n\n\n\n",
            "text/latex": "\\begin{description}\n\\item[\\$first.line] 'stemi\\$pstroke : \\textbackslash{}n'\n\\item[\\$output.table] A matrix: 3 × 3 of type dbl\n\\begin{tabular}{r|lll}\n  & Frequency & Percent & Cum. percent\\\\\n\\hline\n\tFALSE & 14417 &  97.2 &  97.2\\\\\n\tTRUE &   409 &   2.8 & 100.0\\\\\n\t  Total & 14826 & 100.0 & 100.0\\\\\n\\end{tabular}\n\n\\end{description}\n",
            "text/plain": [
              "stemi$pstroke : \n",
              "        Frequency Percent Cum. percent\n",
              "FALSE       14417    97.2         97.2\n",
              "TRUE          409     2.8        100.0\n",
              "  Total     14826   100.0        100.0"
            ]
          },
          "metadata": {}
        },
        {
          "output_type": "display_data",
          "data": {
            "text/plain": [
              "Plot with title “Distribution of stemi$pstroke”"
            ],
            "image/png": "[encoded data removed]"
          },
          "metadata": {
            "image/png": {
              "width": 420,
              "height": 420
            }
          }
        }
      ]
    },
    {
      "cell_type": "markdown",
      "source": [
        "ตัวแปร dm"
      ],
      "metadata": {
        "id": "Kvv3Pj_zJKza"
      }
    },
    {
      "cell_type": "code",
      "source": [
        "stemi$dm<-stemi$dm==\"yes\""
      ],
      "metadata": {
        "id": "nRUdPSe-JM2I"
      },
      "execution_count": 72,
      "outputs": []
    },
    {
      "cell_type": "code",
      "source": [
        "tab1(stemi$dm)"
      ],
      "metadata": {
        "colab": {
          "base_uri": "https://localhost:8080/",
          "height": 661
        },
        "id": "-zEiOmv-JP-5",
        "outputId": "8c766b0c-4670-4e53-d647-fab0d322fe6d"
      },
      "execution_count": 73,
      "outputs": [
        {
          "output_type": "display_data",
          "data": {
            "text/html": [
              "<dl>\n",
              "\t<dt>$first.line</dt>\n",
              "\t\t<dd>'stemi$dm : \\n'</dd>\n",
              "\t<dt>$output.table</dt>\n",
              "\t\t<dd><table class=\"dataframe\">\n",
              "<caption>A matrix: 3 × 3 of type dbl</caption>\n",
              "<thead>\n",
              "\t<tr><th></th><th scope=col>Frequency</th><th scope=col>Percent</th><th scope=col>Cum. percent</th></tr>\n",
              "</thead>\n",
              "<tbody>\n",
              "\t<tr><th scope=row>FALSE</th><td>10552</td><td> 71.2</td><td> 71.2</td></tr>\n",
              "\t<tr><th scope=row>TRUE</th><td> 4274</td><td> 28.8</td><td>100.0</td></tr>\n",
              "\t<tr><th scope=row>  Total</th><td>14826</td><td>100.0</td><td>100.0</td></tr>\n",
              "</tbody>\n",
              "</table>\n",
              "</dd>\n",
              "</dl>\n"
            ],
            "text/markdown": "$first.line\n:   'stemi$dm : \\n'\n$output.table\n:   \nA matrix: 3 × 3 of type dbl\n\n| <!--/--> | Frequency | Percent | Cum. percent |\n|---|---|---|---|\n| FALSE | 10552 |  71.2 |  71.2 |\n| TRUE |  4274 |  28.8 | 100.0 |\n|   Total | 14826 | 100.0 | 100.0 |\n\n\n\n\n",
            "text/latex": "\\begin{description}\n\\item[\\$first.line] 'stemi\\$dm : \\textbackslash{}n'\n\\item[\\$output.table] A matrix: 3 × 3 of type dbl\n\\begin{tabular}{r|lll}\n  & Frequency & Percent & Cum. percent\\\\\n\\hline\n\tFALSE & 10552 &  71.2 &  71.2\\\\\n\tTRUE &  4274 &  28.8 & 100.0\\\\\n\t  Total & 14826 & 100.0 & 100.0\\\\\n\\end{tabular}\n\n\\end{description}\n",
            "text/plain": [
              "stemi$dm : \n",
              "        Frequency Percent Cum. percent\n",
              "FALSE       10552    71.2         71.2\n",
              "TRUE         4274    28.8        100.0\n",
              "  Total     14826   100.0        100.0"
            ]
          },
          "metadata": {}
        },
        {
          "output_type": "display_data",
          "data": {
            "text/plain": [
              "Plot with title “Distribution of stemi$dm”"
            ],
            "image/png": "[encoded data removed]"
          },
          "metadata": {
            "image/png": {
              "width": 420,
              "height": 420
            }
          }
        }
      ]
    },
    {
      "cell_type": "markdown",
      "source": [
        "ตัวแปร ht"
      ],
      "metadata": {
        "id": "lGUjdDihJVih"
      }
    },
    {
      "cell_type": "code",
      "source": [
        "stemi$ht<-stemi$ht==\"yes\""
      ],
      "metadata": {
        "id": "aE2JhpZzJWxR"
      },
      "execution_count": 74,
      "outputs": []
    },
    {
      "cell_type": "code",
      "source": [
        "tab1(stemi$ht)"
      ],
      "metadata": {
        "colab": {
          "base_uri": "https://localhost:8080/",
          "height": 661
        },
        "id": "61q5CUjTJahi",
        "outputId": "29683937-ecf6-45ca-cf55-ca59e70f1743"
      },
      "execution_count": 75,
      "outputs": [
        {
          "output_type": "display_data",
          "data": {
            "text/html": [
              "<dl>\n",
              "\t<dt>$first.line</dt>\n",
              "\t\t<dd>'stemi$ht : \\n'</dd>\n",
              "\t<dt>$output.table</dt>\n",
              "\t\t<dd><table class=\"dataframe\">\n",
              "<caption>A matrix: 3 × 3 of type dbl</caption>\n",
              "<thead>\n",
              "\t<tr><th></th><th scope=col>Frequency</th><th scope=col>Percent</th><th scope=col>Cum. percent</th></tr>\n",
              "</thead>\n",
              "<tbody>\n",
              "\t<tr><th scope=row>FALSE</th><td> 7646</td><td> 51.6</td><td> 51.6</td></tr>\n",
              "\t<tr><th scope=row>TRUE</th><td> 7180</td><td> 48.4</td><td>100.0</td></tr>\n",
              "\t<tr><th scope=row>  Total</th><td>14826</td><td>100.0</td><td>100.0</td></tr>\n",
              "</tbody>\n",
              "</table>\n",
              "</dd>\n",
              "</dl>\n"
            ],
            "text/markdown": "$first.line\n:   'stemi$ht : \\n'\n$output.table\n:   \nA matrix: 3 × 3 of type dbl\n\n| <!--/--> | Frequency | Percent | Cum. percent |\n|---|---|---|---|\n| FALSE |  7646 |  51.6 |  51.6 |\n| TRUE |  7180 |  48.4 | 100.0 |\n|   Total | 14826 | 100.0 | 100.0 |\n\n\n\n\n",
            "text/latex": "\\begin{description}\n\\item[\\$first.line] 'stemi\\$ht : \\textbackslash{}n'\n\\item[\\$output.table] A matrix: 3 × 3 of type dbl\n\\begin{tabular}{r|lll}\n  & Frequency & Percent & Cum. percent\\\\\n\\hline\n\tFALSE &  7646 &  51.6 &  51.6\\\\\n\tTRUE &  7180 &  48.4 & 100.0\\\\\n\t  Total & 14826 & 100.0 & 100.0\\\\\n\\end{tabular}\n\n\\end{description}\n",
            "text/plain": [
              "stemi$ht : \n",
              "        Frequency Percent Cum. percent\n",
              "FALSE        7646    51.6         51.6\n",
              "TRUE         7180    48.4        100.0\n",
              "  Total     14826   100.0        100.0"
            ]
          },
          "metadata": {}
        },
        {
          "output_type": "display_data",
          "data": {
            "text/plain": [
              "Plot with title “Distribution of stemi$ht”"
            ],
            "image/png": "[encoded data removed]"
          },
          "metadata": {
            "image/png": {
              "width": 420,
              "height": 420
            }
          }
        }
      ]
    },
    {
      "cell_type": "markdown",
      "source": [
        "ตัวแปร los"
      ],
      "metadata": {
        "id": "K1qFQtdVJfSn"
      }
    },
    {
      "cell_type": "code",
      "source": [
        "summary(stemi$los)"
      ],
      "metadata": {
        "colab": {
          "base_uri": "https://localhost:8080/",
          "height": 52
        },
        "id": "VYRNfQ5_Jvdg",
        "outputId": "2f93a1cf-459c-45fb-c6f1-835ee27697cf"
      },
      "execution_count": 79,
      "outputs": [
        {
          "output_type": "display_data",
          "data": {
            "text/plain": [
              "   Min. 1st Qu.  Median    Mean 3rd Qu.    Max. \n",
              "  0.000   2.000   3.000   4.642   5.000 164.000 "
            ]
          },
          "metadata": {}
        }
      ]
    },
    {
      "cell_type": "code",
      "source": [
        "tab1(stemi$los)"
      ],
      "metadata": {
        "colab": {
          "base_uri": "https://localhost:8080/",
          "height": 1000
        },
        "id": "kjyEt7EIJ6u4",
        "outputId": "8fb477fb-5510-4999-fae8-c15f41cab2b5"
      },
      "execution_count": 81,
      "outputs": [
        {
          "output_type": "display_data",
          "data": {
            "text/html": [
              "<dl>\n",
              "\t<dt>$first.line</dt>\n",
              "\t\t<dd>'stemi$los : \\n'</dd>\n",
              "\t<dt>$output.table</dt>\n",
              "\t\t<dd><table class=\"dataframe\">\n",
              "<caption>A matrix: 72 × 3 of type dbl</caption>\n",
              "<thead>\n",
              "\t<tr><th></th><th scope=col>Frequency</th><th scope=col>Percent</th><th scope=col>Cum. percent</th></tr>\n",
              "</thead>\n",
              "<tbody>\n",
              "\t<tr><th scope=row>0</th><td> 527</td><td> 3.6</td><td> 3.6</td></tr>\n",
              "\t<tr><th scope=row>1</th><td>1585</td><td>10.7</td><td>14.2</td></tr>\n",
              "\t<tr><th scope=row>2</th><td>3712</td><td>25.0</td><td>39.3</td></tr>\n",
              "\t<tr><th scope=row>3</th><td>2385</td><td>16.1</td><td>55.4</td></tr>\n",
              "\t<tr><th scope=row>4</th><td>1630</td><td>11.0</td><td>66.4</td></tr>\n",
              "\t<tr><th scope=row>5</th><td>1409</td><td> 9.5</td><td>75.9</td></tr>\n",
              "\t<tr><th scope=row>6</th><td> 944</td><td> 6.4</td><td>82.2</td></tr>\n",
              "\t<tr><th scope=row>7</th><td> 549</td><td> 3.7</td><td>85.9</td></tr>\n",
              "\t<tr><th scope=row>8</th><td> 420</td><td> 2.8</td><td>88.8</td></tr>\n",
              "\t<tr><th scope=row>9</th><td> 304</td><td> 2.1</td><td>90.8</td></tr>\n",
              "\t<tr><th scope=row>10</th><td> 222</td><td> 1.5</td><td>92.3</td></tr>\n",
              "\t<tr><th scope=row>11</th><td> 198</td><td> 1.3</td><td>93.7</td></tr>\n",
              "\t<tr><th scope=row>12</th><td> 164</td><td> 1.1</td><td>94.8</td></tr>\n",
              "\t<tr><th scope=row>13</th><td> 104</td><td> 0.7</td><td>95.5</td></tr>\n",
              "\t<tr><th scope=row>14</th><td> 111</td><td> 0.7</td><td>96.2</td></tr>\n",
              "\t<tr><th scope=row>15</th><td>  76</td><td> 0.5</td><td>96.7</td></tr>\n",
              "\t<tr><th scope=row>16</th><td>  59</td><td> 0.4</td><td>97.1</td></tr>\n",
              "\t<tr><th scope=row>17</th><td>  51</td><td> 0.3</td><td>97.5</td></tr>\n",
              "\t<tr><th scope=row>18</th><td>  32</td><td> 0.2</td><td>97.7</td></tr>\n",
              "\t<tr><th scope=row>19</th><td>  37</td><td> 0.2</td><td>97.9</td></tr>\n",
              "\t<tr><th scope=row>20</th><td>  33</td><td> 0.2</td><td>98.2</td></tr>\n",
              "\t<tr><th scope=row>21</th><td>  17</td><td> 0.1</td><td>98.3</td></tr>\n",
              "\t<tr><th scope=row>22</th><td>  23</td><td> 0.2</td><td>98.4</td></tr>\n",
              "\t<tr><th scope=row>23</th><td>  24</td><td> 0.2</td><td>98.6</td></tr>\n",
              "\t<tr><th scope=row>24</th><td>  15</td><td> 0.1</td><td>98.7</td></tr>\n",
              "\t<tr><th scope=row>25</th><td>  23</td><td> 0.2</td><td>98.8</td></tr>\n",
              "\t<tr><th scope=row>26</th><td>  18</td><td> 0.1</td><td>99.0</td></tr>\n",
              "\t<tr><th scope=row>27</th><td>  18</td><td> 0.1</td><td>99.1</td></tr>\n",
              "\t<tr><th scope=row>28</th><td>  14</td><td> 0.1</td><td>99.2</td></tr>\n",
              "\t<tr><th scope=row>29</th><td>   5</td><td> 0.0</td><td>99.2</td></tr>\n",
              "\t<tr><th scope=row>⋮</th><td>⋮</td><td>⋮</td><td>⋮</td></tr>\n",
              "\t<tr><th scope=row>42</th><td>    2</td><td>  0</td><td> 99.7</td></tr>\n",
              "\t<tr><th scope=row>44</th><td>    2</td><td>  0</td><td> 99.7</td></tr>\n",
              "\t<tr><th scope=row>45</th><td>    4</td><td>  0</td><td> 99.7</td></tr>\n",
              "\t<tr><th scope=row>46</th><td>    2</td><td>  0</td><td> 99.7</td></tr>\n",
              "\t<tr><th scope=row>47</th><td>    1</td><td>  0</td><td> 99.7</td></tr>\n",
              "\t<tr><th scope=row>48</th><td>    3</td><td>  0</td><td> 99.7</td></tr>\n",
              "\t<tr><th scope=row>49</th><td>    3</td><td>  0</td><td> 99.8</td></tr>\n",
              "\t<tr><th scope=row>50</th><td>    2</td><td>  0</td><td> 99.8</td></tr>\n",
              "\t<tr><th scope=row>51</th><td>    2</td><td>  0</td><td> 99.8</td></tr>\n",
              "\t<tr><th scope=row>52</th><td>    1</td><td>  0</td><td> 99.8</td></tr>\n",
              "\t<tr><th scope=row>55</th><td>    5</td><td>  0</td><td> 99.8</td></tr>\n",
              "\t<tr><th scope=row>56</th><td>    1</td><td>  0</td><td> 99.8</td></tr>\n",
              "\t<tr><th scope=row>57</th><td>    2</td><td>  0</td><td> 99.9</td></tr>\n",
              "\t<tr><th scope=row>58</th><td>    1</td><td>  0</td><td> 99.9</td></tr>\n",
              "\t<tr><th scope=row>59</th><td>    4</td><td>  0</td><td> 99.9</td></tr>\n",
              "\t<tr><th scope=row>61</th><td>    1</td><td>  0</td><td> 99.9</td></tr>\n",
              "\t<tr><th scope=row>63</th><td>    2</td><td>  0</td><td> 99.9</td></tr>\n",
              "\t<tr><th scope=row>66</th><td>    2</td><td>  0</td><td> 99.9</td></tr>\n",
              "\t<tr><th scope=row>67</th><td>    1</td><td>  0</td><td> 99.9</td></tr>\n",
              "\t<tr><th scope=row>69</th><td>    1</td><td>  0</td><td> 99.9</td></tr>\n",
              "\t<tr><th scope=row>74</th><td>    1</td><td>  0</td><td> 99.9</td></tr>\n",
              "\t<tr><th scope=row>75</th><td>    1</td><td>  0</td><td> 99.9</td></tr>\n",
              "\t<tr><th scope=row>82</th><td>    2</td><td>  0</td><td>100.0</td></tr>\n",
              "\t<tr><th scope=row>83</th><td>    1</td><td>  0</td><td>100.0</td></tr>\n",
              "\t<tr><th scope=row>86</th><td>    1</td><td>  0</td><td>100.0</td></tr>\n",
              "\t<tr><th scope=row>90</th><td>    1</td><td>  0</td><td>100.0</td></tr>\n",
              "\t<tr><th scope=row>117</th><td>    1</td><td>  0</td><td>100.0</td></tr>\n",
              "\t<tr><th scope=row>156</th><td>    1</td><td>  0</td><td>100.0</td></tr>\n",
              "\t<tr><th scope=row>164</th><td>    1</td><td>  0</td><td>100.0</td></tr>\n",
              "\t<tr><th scope=row>  Total</th><td>14826</td><td>100</td><td>100.0</td></tr>\n",
              "</tbody>\n",
              "</table>\n",
              "</dd>\n",
              "</dl>\n"
            ],
            "text/markdown": "$first.line\n:   'stemi$los : \\n'\n$output.table\n:   \nA matrix: 72 × 3 of type dbl\n\n| <!--/--> | Frequency | Percent | Cum. percent |\n|---|---|---|---|\n| 0 |  527 |  3.6 |  3.6 |\n| 1 | 1585 | 10.7 | 14.2 |\n| 2 | 3712 | 25.0 | 39.3 |\n| 3 | 2385 | 16.1 | 55.4 |\n| 4 | 1630 | 11.0 | 66.4 |\n| 5 | 1409 |  9.5 | 75.9 |\n| 6 |  944 |  6.4 | 82.2 |\n| 7 |  549 |  3.7 | 85.9 |\n| 8 |  420 |  2.8 | 88.8 |\n| 9 |  304 |  2.1 | 90.8 |\n| 10 |  222 |  1.5 | 92.3 |\n| 11 |  198 |  1.3 | 93.7 |\n| 12 |  164 |  1.1 | 94.8 |\n| 13 |  104 |  0.7 | 95.5 |\n| 14 |  111 |  0.7 | 96.2 |\n| 15 |   76 |  0.5 | 96.7 |\n| 16 |   59 |  0.4 | 97.1 |\n| 17 |   51 |  0.3 | 97.5 |\n| 18 |   32 |  0.2 | 97.7 |\n| 19 |   37 |  0.2 | 97.9 |\n| 20 |   33 |  0.2 | 98.2 |\n| 21 |   17 |  0.1 | 98.3 |\n| 22 |   23 |  0.2 | 98.4 |\n| 23 |   24 |  0.2 | 98.6 |\n| 24 |   15 |  0.1 | 98.7 |\n| 25 |   23 |  0.2 | 98.8 |\n| 26 |   18 |  0.1 | 99.0 |\n| 27 |   18 |  0.1 | 99.1 |\n| 28 |   14 |  0.1 | 99.2 |\n| 29 |    5 |  0.0 | 99.2 |\n| ⋮ | ⋮ | ⋮ | ⋮ |\n| 42 |     2 |   0 |  99.7 |\n| 44 |     2 |   0 |  99.7 |\n| 45 |     4 |   0 |  99.7 |\n| 46 |     2 |   0 |  99.7 |\n| 47 |     1 |   0 |  99.7 |\n| 48 |     3 |   0 |  99.7 |\n| 49 |     3 |   0 |  99.8 |\n| 50 |     2 |   0 |  99.8 |\n| 51 |     2 |   0 |  99.8 |\n| 52 |     1 |   0 |  99.8 |\n| 55 |     5 |   0 |  99.8 |\n| 56 |     1 |   0 |  99.8 |\n| 57 |     2 |   0 |  99.9 |\n| 58 |     1 |   0 |  99.9 |\n| 59 |     4 |   0 |  99.9 |\n| 61 |     1 |   0 |  99.9 |\n| 63 |     2 |   0 |  99.9 |\n| 66 |     2 |   0 |  99.9 |\n| 67 |     1 |   0 |  99.9 |\n| 69 |     1 |   0 |  99.9 |\n| 74 |     1 |   0 |  99.9 |\n| 75 |     1 |   0 |  99.9 |\n| 82 |     2 |   0 | 100.0 |\n| 83 |     1 |   0 | 100.0 |\n| 86 |     1 |   0 | 100.0 |\n| 90 |     1 |   0 | 100.0 |\n| 117 |     1 |   0 | 100.0 |\n| 156 |     1 |   0 | 100.0 |\n| 164 |     1 |   0 | 100.0 |\n|   Total | 14826 | 100 | 100.0 |\n\n\n\n\n",
            "text/latex": "\\begin{description}\n\\item[\\$first.line] 'stemi\\$los : \\textbackslash{}n'\n\\item[\\$output.table] A matrix: 72 × 3 of type dbl\n\\begin{tabular}{r|lll}\n  & Frequency & Percent & Cum. percent\\\\\n\\hline\n\t0 &  527 &  3.6 &  3.6\\\\\n\t1 & 1585 & 10.7 & 14.2\\\\\n\t2 & 3712 & 25.0 & 39.3\\\\\n\t3 & 2385 & 16.1 & 55.4\\\\\n\t4 & 1630 & 11.0 & 66.4\\\\\n\t5 & 1409 &  9.5 & 75.9\\\\\n\t6 &  944 &  6.4 & 82.2\\\\\n\t7 &  549 &  3.7 & 85.9\\\\\n\t8 &  420 &  2.8 & 88.8\\\\\n\t9 &  304 &  2.1 & 90.8\\\\\n\t10 &  222 &  1.5 & 92.3\\\\\n\t11 &  198 &  1.3 & 93.7\\\\\n\t12 &  164 &  1.1 & 94.8\\\\\n\t13 &  104 &  0.7 & 95.5\\\\\n\t14 &  111 &  0.7 & 96.2\\\\\n\t15 &   76 &  0.5 & 96.7\\\\\n\t16 &   59 &  0.4 & 97.1\\\\\n\t17 &   51 &  0.3 & 97.5\\\\\n\t18 &   32 &  0.2 & 97.7\\\\\n\t19 &   37 &  0.2 & 97.9\\\\\n\t20 &   33 &  0.2 & 98.2\\\\\n\t21 &   17 &  0.1 & 98.3\\\\\n\t22 &   23 &  0.2 & 98.4\\\\\n\t23 &   24 &  0.2 & 98.6\\\\\n\t24 &   15 &  0.1 & 98.7\\\\\n\t25 &   23 &  0.2 & 98.8\\\\\n\t26 &   18 &  0.1 & 99.0\\\\\n\t27 &   18 &  0.1 & 99.1\\\\\n\t28 &   14 &  0.1 & 99.2\\\\\n\t29 &    5 &  0.0 & 99.2\\\\\n\t⋮ & ⋮ & ⋮ & ⋮\\\\\n\t42 &     2 &   0 &  99.7\\\\\n\t44 &     2 &   0 &  99.7\\\\\n\t45 &     4 &   0 &  99.7\\\\\n\t46 &     2 &   0 &  99.7\\\\\n\t47 &     1 &   0 &  99.7\\\\\n\t48 &     3 &   0 &  99.7\\\\\n\t49 &     3 &   0 &  99.8\\\\\n\t50 &     2 &   0 &  99.8\\\\\n\t51 &     2 &   0 &  99.8\\\\\n\t52 &     1 &   0 &  99.8\\\\\n\t55 &     5 &   0 &  99.8\\\\\n\t56 &     1 &   0 &  99.8\\\\\n\t57 &     2 &   0 &  99.9\\\\\n\t58 &     1 &   0 &  99.9\\\\\n\t59 &     4 &   0 &  99.9\\\\\n\t61 &     1 &   0 &  99.9\\\\\n\t63 &     2 &   0 &  99.9\\\\\n\t66 &     2 &   0 &  99.9\\\\\n\t67 &     1 &   0 &  99.9\\\\\n\t69 &     1 &   0 &  99.9\\\\\n\t74 &     1 &   0 &  99.9\\\\\n\t75 &     1 &   0 &  99.9\\\\\n\t82 &     2 &   0 & 100.0\\\\\n\t83 &     1 &   0 & 100.0\\\\\n\t86 &     1 &   0 & 100.0\\\\\n\t90 &     1 &   0 & 100.0\\\\\n\t117 &     1 &   0 & 100.0\\\\\n\t156 &     1 &   0 & 100.0\\\\\n\t164 &     1 &   0 & 100.0\\\\\n\t  Total & 14826 & 100 & 100.0\\\\\n\\end{tabular}\n\n\\end{description}\n",
            "text/plain": [
              "stemi$los : \n",
              "        Frequency Percent Cum. percent\n",
              "0             527     3.6          3.6\n",
              "1            1585    10.7         14.2\n",
              "2            3712    25.0         39.3\n",
              "3            2385    16.1         55.4\n",
              "4            1630    11.0         66.4\n",
              "5            1409     9.5         75.9\n",
              "6             944     6.4         82.2\n",
              "7             549     3.7         85.9\n",
              "8             420     2.8         88.8\n",
              "9             304     2.1         90.8\n",
              "10            222     1.5         92.3\n",
              "11            198     1.3         93.7\n",
              "12            164     1.1         94.8\n",
              "13            104     0.7         95.5\n",
              "14            111     0.7         96.2\n",
              "15             76     0.5         96.7\n",
              "16             59     0.4         97.1\n",
              "17             51     0.3         97.5\n",
              "18             32     0.2         97.7\n",
              "19             37     0.2         97.9\n",
              "20             33     0.2         98.2\n",
              "21             17     0.1         98.3\n",
              "22             23     0.2         98.4\n",
              "23             24     0.2         98.6\n",
              "24             15     0.1         98.7\n",
              "25             23     0.2         98.8\n",
              "26             18     0.1         99.0\n",
              "27             18     0.1         99.1\n",
              "28             14     0.1         99.2\n",
              "29              5     0.0         99.2\n",
              "30             10     0.1         99.3\n",
              "31              2     0.0         99.3\n",
              "32              5     0.0         99.3\n",
              "33              5     0.0         99.4\n",
              "34             12     0.1         99.4\n",
              "35              6     0.0         99.5\n",
              "36              6     0.0         99.5\n",
              "37              6     0.0         99.6\n",
              "38              4     0.0         99.6\n",
              "39              2     0.0         99.6\n",
              "40              6     0.0         99.6\n",
              "41              1     0.0         99.6\n",
              "42              2     0.0         99.7\n",
              "44              2     0.0         99.7\n",
              "45              4     0.0         99.7\n",
              "46              2     0.0         99.7\n",
              "47              1     0.0         99.7\n",
              "48              3     0.0         99.7\n",
              "49              3     0.0         99.8\n",
              "50              2     0.0         99.8\n",
              "51              2     0.0         99.8\n",
              "52              1     0.0         99.8\n",
              "55              5     0.0         99.8\n",
              "56              1     0.0         99.8\n",
              "57              2     0.0         99.9\n",
              "58              1     0.0         99.9\n",
              "59              4     0.0         99.9\n",
              "61              1     0.0         99.9\n",
              "63              2     0.0         99.9\n",
              "66              2     0.0         99.9\n",
              "67              1     0.0         99.9\n",
              "69              1     0.0         99.9\n",
              "74              1     0.0         99.9\n",
              "75              1     0.0         99.9\n",
              "82              2     0.0        100.0\n",
              "83              1     0.0        100.0\n",
              "86              1     0.0        100.0\n",
              "90              1     0.0        100.0\n",
              "117             1     0.0        100.0\n",
              "156             1     0.0        100.0\n",
              "164             1     0.0        100.0\n",
              "  Total     14826   100.0        100.0"
            ]
          },
          "metadata": {}
        },
        {
          "output_type": "display_data",
          "data": {
            "text/plain": [
              "Plot with title “Distribution of stemi$los”"
            ],
            "image/png": "[encoded data removed]"
          },
          "metadata": {
            "image/png": {
              "width": 420,
              "height": 420
            }
          }
        }
      ]
    },
    {
      "cell_type": "markdown",
      "source": [
        "ตัวแปร death_date"
      ],
      "metadata": {
        "id": "i2qtWcmlJk5A"
      }
    },
    {
      "cell_type": "code",
      "source": [
        "hist(stemi$death_date, breaks = \"weeks\")"
      ],
      "metadata": {
        "colab": {
          "base_uri": "https://localhost:8080/",
          "height": 437
        },
        "id": "1OVBF_NyEA9A",
        "outputId": "4c6bc8fb-b1c1-433a-cdd2-c7c8fa44ead2"
      },
      "execution_count": 82,
      "outputs": [
        {
          "output_type": "display_data",
          "data": {
            "text/plain": [
              "Plot with title “Histogram of stemi$death_date”"
            ],
            "image/png": "[encoded data removed]"
          },
          "metadata": {
            "image/png": {
              "width": 420,
              "height": 420
            }
          }
        }
      ]
    },
    {
      "cell_type": "markdown",
      "source": [
        "ตัวแปร death"
      ],
      "metadata": {
        "id": "5IWfIae4KTTJ"
      }
    },
    {
      "cell_type": "code",
      "source": [
        "tab1(stemi$death)"
      ],
      "metadata": {
        "colab": {
          "base_uri": "https://localhost:8080/",
          "height": 661
        },
        "id": "5ngrHGvZKSPf",
        "outputId": "a701a02f-204b-4ee5-ad62-b852dd82255e"
      },
      "execution_count": 83,
      "outputs": [
        {
          "output_type": "display_data",
          "data": {
            "text/html": [
              "<dl>\n",
              "\t<dt>$first.line</dt>\n",
              "\t\t<dd>'stemi$death : \\n'</dd>\n",
              "\t<dt>$output.table</dt>\n",
              "\t\t<dd><table class=\"dataframe\">\n",
              "<caption>A matrix: 3 × 3 of type dbl</caption>\n",
              "<thead>\n",
              "\t<tr><th></th><th scope=col>Frequency</th><th scope=col>Percent</th><th scope=col>Cum. percent</th></tr>\n",
              "</thead>\n",
              "<tbody>\n",
              "\t<tr><th scope=row>FALSE</th><td>11946</td><td> 80.6</td><td> 80.6</td></tr>\n",
              "\t<tr><th scope=row>TRUE</th><td> 2880</td><td> 19.4</td><td>100.0</td></tr>\n",
              "\t<tr><th scope=row>  Total</th><td>14826</td><td>100.0</td><td>100.0</td></tr>\n",
              "</tbody>\n",
              "</table>\n",
              "</dd>\n",
              "</dl>\n"
            ],
            "text/markdown": "$first.line\n:   'stemi$death : \\n'\n$output.table\n:   \nA matrix: 3 × 3 of type dbl\n\n| <!--/--> | Frequency | Percent | Cum. percent |\n|---|---|---|---|\n| FALSE | 11946 |  80.6 |  80.6 |\n| TRUE |  2880 |  19.4 | 100.0 |\n|   Total | 14826 | 100.0 | 100.0 |\n\n\n\n\n",
            "text/latex": "\\begin{description}\n\\item[\\$first.line] 'stemi\\$death : \\textbackslash{}n'\n\\item[\\$output.table] A matrix: 3 × 3 of type dbl\n\\begin{tabular}{r|lll}\n  & Frequency & Percent & Cum. percent\\\\\n\\hline\n\tFALSE & 11946 &  80.6 &  80.6\\\\\n\tTRUE &  2880 &  19.4 & 100.0\\\\\n\t  Total & 14826 & 100.0 & 100.0\\\\\n\\end{tabular}\n\n\\end{description}\n",
            "text/plain": [
              "stemi$death : \n",
              "        Frequency Percent Cum. percent\n",
              "FALSE       11946    80.6         80.6\n",
              "TRUE         2880    19.4        100.0\n",
              "  Total     14826   100.0        100.0"
            ]
          },
          "metadata": {}
        },
        {
          "output_type": "display_data",
          "data": {
            "text/plain": [
              "Plot with title “Distribution of stemi$death”"
            ],
            "image/png": "[encoded data removed]"
          },
          "metadata": {
            "image/png": {
              "width": 420,
              "height": 420
            }
          }
        }
      ]
    },
    {
      "cell_type": "markdown",
      "source": [
        "## **สร้าง Demographic table**"
      ],
      "metadata": {
        "id": "ZmbL5r38Kcyw"
      }
    },
    {
      "cell_type": "code",
      "source": [
        "glimpse(stemi)"
      ],
      "metadata": {
        "colab": {
          "base_uri": "https://localhost:8080/"
        },
        "id": "-tHC8Sl0KpEI",
        "outputId": "d70394de-4265-4521-b834-9fb746ffb5ac"
      },
      "execution_count": 84,
      "outputs": [
        {
          "output_type": "stream",
          "name": "stdout",
          "text": [
            "Rows: 14,826\n",
            "Columns: 13\n",
            "$ id         \u001b[3m\u001b[90m<chr>\u001b[39m\u001b[23m \"14546825\", \"17116169\", \"18502426\", \"25568498\", \"25664763\",…\n",
            "$ sex        \u001b[3m\u001b[90m<chr>\u001b[39m\u001b[23m \"Female\", \"Male\", \"Male\", \"Male\", \"Male\", \"Male\", \"Male\", \"…\n",
            "$ age        \u001b[3m\u001b[90m<int>\u001b[39m\u001b[23m 46, 51, 55, 53, 77, 47, 49, 63, 64, 92, 84, 83, 83, 49, 72,…\n",
            "$ pci        \u001b[3m\u001b[90m<lgl>\u001b[39m\u001b[23m FALSE, TRUE, TRUE, TRUE, TRUE, TRUE, TRUE, TRUE, FALSE, TRU…\n",
            "$ pstroke    \u001b[3m\u001b[90m<lgl>\u001b[39m\u001b[23m FALSE, FALSE, FALSE, FALSE, FALSE, FALSE, FALSE, FALSE, FAL…\n",
            "$ dlp        \u001b[3m\u001b[90m<lgl>\u001b[39m\u001b[23m FALSE, FALSE, TRUE, TRUE, FALSE, TRUE, FALSE, TRUE, TRUE, F…\n",
            "$ dm         \u001b[3m\u001b[90m<lgl>\u001b[39m\u001b[23m TRUE, FALSE, FALSE, TRUE, FALSE, FALSE, FALSE, FALSE, TRUE,…\n",
            "$ ht         \u001b[3m\u001b[90m<lgl>\u001b[39m\u001b[23m FALSE, FALSE, TRUE, TRUE, FALSE, TRUE, FALSE, TRUE, TRUE, F…\n",
            "$ adm_date   \u001b[3m\u001b[90m<date>\u001b[39m\u001b[23m 2017-01-01, 2017-01-01, 2017-01-01, 2017-01-01, 2017-01-01…\n",
            "$ dsc_date   \u001b[3m\u001b[90m<date>\u001b[39m\u001b[23m 2017-01-05, 2017-01-06, 2017-01-08, 2017-01-02, 2017-01-03…\n",
            "$ death_date \u001b[3m\u001b[90m<date>\u001b[39m\u001b[23m NA, NA, NA, NA, 2017-11-10, NA, NA, NA, NA, NA, NA, 2018-0…\n",
            "$ death      \u001b[3m\u001b[90m<lgl>\u001b[39m\u001b[23m FALSE, FALSE, FALSE, FALSE, TRUE, FALSE, FALSE, FALSE, FALS…\n",
            "$ los        \u001b[3m\u001b[90m<dbl>\u001b[39m\u001b[23m 4, 5, 7, 1, 2, 5, 18, 6, 3, 2, 6, 11, 11, 18, 3, 1, 6, 4, 6…\n"
          ]
        }
      ]
    },
    {
      "cell_type": "code",
      "source": [
        "tableStack(c(sex,age,pstroke:ht,los),by=pci,data = stemi)"
      ],
      "metadata": {
        "colab": {
          "base_uri": "https://localhost:8080/",
          "height": 520
        },
        "id": "FzZjWZcQKf6A",
        "outputId": "b4e7169d-b1e6-45a1-a84b-06be01eede18"
      },
      "execution_count": 85,
      "outputs": [
        {
          "output_type": "display_data",
          "data": {
            "text/plain": [
              "              FALSE       TRUE         Test stat.            P value\n",
              "Total         2603        12223                                     \n",
              "                                                                    \n",
              "sex                                    Chisq. (1 df) = 4.49  0.034  \n",
              "   Female     770 (29.6)  3365 (27.5)                               \n",
              "   Male       1833 (70.4) 8858 (72.5)                               \n",
              "                                                                    \n",
              "age                                    Ranksum test          0.001  \n",
              "  median(IQR) 64 (54,73)  62 (54,71)                                \n",
              "                                                                    \n",
              "pstroke                                Chisq. (1 df) = 30.92 < 0.001\n",
              "   FALSE      2489 (95.6) 11928 (97.6)                              \n",
              "   TRUE       114 (4.4)   295 (2.4)                                 \n",
              "                                                                    \n",
              "dlp                                    Chisq. (1 df) = 7.04  0.008  \n",
              "   FALSE      1281 (49.2) 6365 (52.1)                               \n",
              "   TRUE       1322 (50.8) 5858 (47.9)                               \n",
              "                                                                    \n",
              "dm                                     Chisq. (1 df) = 0.69  0.407  \n",
              "   FALSE      1870 (71.8) 8682 (71)                                 \n",
              "   TRUE       733 (28.2)  3541 (29)                                 \n",
              "                                                                    \n",
              "ht                                     Chisq. (1 df) = 7.04  0.008  \n",
              "   FALSE      1281 (49.2) 6365 (52.1)                               \n",
              "   TRUE       1322 (50.8) 5858 (47.9)                               \n",
              "                                                                    \n",
              "los                                    Ranksum test          < 0.001\n",
              "  median(IQR) 5 (3,7)     3 (2,5)                                   \n",
              "                                                                    "
            ]
          },
          "metadata": {}
        }
      ]
    },
    {
      "cell_type": "markdown",
      "source": [
        "## **วิเคราะห์ข้อมูลอย่างง่าย**"
      ],
      "metadata": {
        "id": "RtoVEGOALBQo"
      }
    },
    {
      "cell_type": "markdown",
      "source": [
        "ถ้าจะวิเคราะห์ time to event ต้องสร้าง วันที่สุดท้ายที่ f/u ที่เป็น censorship ด้วย"
      ],
      "metadata": {
        "id": "DAN3PQyOLm_w"
      }
    },
    {
      "cell_type": "markdown",
      "source": [
        "สมมติให้วันสุดท้ายของทุกคนในการ f/u เป็น 19 ธค 2020"
      ],
      "metadata": {
        "id": "PwoVwpCyL08o"
      }
    },
    {
      "cell_type": "code",
      "source": [
        "stemi$fdate<-stemi$death_date"
      ],
      "metadata": {
        "id": "doYqvSJ7K_oI"
      },
      "execution_count": 94,
      "outputs": []
    },
    {
      "cell_type": "code",
      "source": [
        "stemi$fdate[is.na(stemi$fdate)]<-dmy(\"19-12-2020\")"
      ],
      "metadata": {
        "id": "lm8ybgTMMSq4"
      },
      "execution_count": 95,
      "outputs": []
    },
    {
      "cell_type": "code",
      "source": [
        "stemi$fday<-interval(stemi$dsc_date,stemi$fdate)/duration(1,\"days\")"
      ],
      "metadata": {
        "id": "L2zHXR3vMadB"
      },
      "execution_count": 96,
      "outputs": []
    },
    {
      "cell_type": "code",
      "source": [
        "model_stemi<-coxph(Surv(fday,death) ~ pci + age + sex + dm, data = stemi)"
      ],
      "metadata": {
        "id": "EEnoCTSTMx3J"
      },
      "execution_count": 101,
      "outputs": []
    },
    {
      "cell_type": "code",
      "source": [
        "cox.display(model_stemi)"
      ],
      "metadata": {
        "colab": {
          "base_uri": "https://localhost:8080/",
          "height": 432
        },
        "id": "M3pd1WFaNO55",
        "outputId": "f49f27c5-5388-45b3-a303-f410490aabe3"
      },
      "execution_count": 102,
      "outputs": [
        {
          "output_type": "stream",
          "name": "stdout",
          "text": [
            "\n",
            "\n",
            "\n",
            "\n"
          ]
        },
        {
          "output_type": "display_data",
          "data": {
            "text/html": [
              "<dl>\n",
              "\t<dt>$first.line</dt>\n",
              "\t\t<dd>'Cox\\'s proportional hazard model on time (\\'fday\\') to event (\\'death\\') \\n'</dd>\n",
              "\t<dt>$table</dt>\n",
              "\t\t<dd><table class=\"dataframe\">\n",
              "<caption>A matrix: 8 × 4 of type chr</caption>\n",
              "<thead>\n",
              "\t<tr><th></th><th scope=col>crude HR(95%CI)</th><th scope=col>adj. HR(95%CI)</th><th scope=col>P(Wald's test)</th><th scope=col>P(LR-test)</th></tr>\n",
              "</thead>\n",
              "<tbody>\n",
              "\t<tr><th scope=row>pci</th><td><span style=white-space:pre-wrap>0.5 (0.46,0.54)        </span></td><td><span style=white-space:pre-wrap>0.53 (0.49,0.57)       </span></td><td>&lt; 0.001</td><td>&lt; 0.001</td></tr>\n",
              "\t<tr><th scope=row></th><td>                       </td><td>                       </td><td>       </td><td>       </td></tr>\n",
              "\t<tr><th scope=row>age (cont. var.)</th><td><span style=white-space:pre-wrap>1.06 (1.06,1.06)       </span></td><td><span style=white-space:pre-wrap>1.06 (1.06,1.06)       </span></td><td>&lt; 0.001</td><td>&lt; 0.001</td></tr>\n",
              "\t<tr><th scope=row></th><td>                       </td><td>                       </td><td>       </td><td>       </td></tr>\n",
              "\t<tr><th scope=row>sex (cont. var.)</th><td>0.6759 (0.6261,0.7296) </td><td>0.9968 (0.9207,1.0792) </td><td>0.936  </td><td>0.936  </td></tr>\n",
              "\t<tr><th scope=row></th><td>                       </td><td>                       </td><td>       </td><td>       </td></tr>\n",
              "\t<tr><th scope=row>dm</th><td><span style=white-space:pre-wrap>1.48 (1.37,1.6)        </span></td><td><span style=white-space:pre-wrap>1.61 (1.49,1.74)       </span></td><td>&lt; 0.001</td><td>&lt; 0.001</td></tr>\n",
              "\t<tr><th scope=row></th><td>                       </td><td>                       </td><td>       </td><td>       </td></tr>\n",
              "</tbody>\n",
              "</table>\n",
              "</dd>\n",
              "\t<dt>$last.lines</dt>\n",
              "\t\t<dd><span style=white-space:pre-wrap>'No. of observations =  14826 \\n'</span></dd>\n",
              "</dl>\n"
            ],
            "text/markdown": "$first.line\n:   'Cox\\'s proportional hazard model on time (\\'fday\\') to event (\\'death\\') \\n'\n$table\n:   \nA matrix: 8 × 4 of type chr\n\n| <!--/--> | crude HR(95%CI) | adj. HR(95%CI) | P(Wald's test) | P(LR-test) |\n|---|---|---|---|---|\n| pci | 0.5 (0.46,0.54)         | 0.53 (0.49,0.57)        | &lt; 0.001 | &lt; 0.001 |\n| <!----> | <!----> | <!----> | <!----> | <!----> |\n| age (cont. var.) | 1.06 (1.06,1.06)        | 1.06 (1.06,1.06)        | &lt; 0.001 | &lt; 0.001 |\n| <!----> | <!----> | <!----> | <!----> | <!----> |\n| sex (cont. var.) | 0.6759 (0.6261,0.7296)  | 0.9968 (0.9207,1.0792)  | 0.936   | 0.936   |\n| <!----> | <!----> | <!----> | <!----> | <!----> |\n| dm | 1.48 (1.37,1.6)         | 1.61 (1.49,1.74)        | &lt; 0.001 | &lt; 0.001 |\n| <!----> | <!----> | <!----> | <!----> | <!----> |\n\n\n$last.lines\n:   <span style=white-space:pre-wrap>'No. of observations =  14826 \\n'</span>\n\n\n",
            "text/latex": "\\begin{description}\n\\item[\\$first.line] 'Cox\\textbackslash{}'s proportional hazard model on time (\\textbackslash{}'fday\\textbackslash{}') to event (\\textbackslash{}'death\\textbackslash{}') \\textbackslash{}n'\n\\item[\\$table] A matrix: 8 × 4 of type chr\n\\begin{tabular}{r|llll}\n  & crude HR(95\\%CI) & adj. HR(95\\%CI) & P(Wald's test) & P(LR-test)\\\\\n\\hline\n\tpci & 0.5 (0.46,0.54)         & 0.53 (0.49,0.57)        & < 0.001 & < 0.001\\\\\n\t &                         &                         &         &        \\\\\n\tage (cont. var.) & 1.06 (1.06,1.06)        & 1.06 (1.06,1.06)        & < 0.001 & < 0.001\\\\\n\t &                         &                         &         &        \\\\\n\tsex (cont. var.) & 0.6759 (0.6261,0.7296)  & 0.9968 (0.9207,1.0792)  & 0.936   & 0.936  \\\\\n\t &                         &                         &         &        \\\\\n\tdm & 1.48 (1.37,1.6)         & 1.61 (1.49,1.74)        & < 0.001 & < 0.001\\\\\n\t &                         &                         &         &        \\\\\n\\end{tabular}\n\n\\item[\\$last.lines] 'No. of observations =  14826 \\textbackslash{}n'\n\\end{description}\n",
            "text/plain": [
              "Cox's proportional hazard model on time ('fday') to event ('death') \n",
              " \n",
              "                 crude HR(95%CI)         adj. HR(95%CI)          P(Wald's test)\n",
              "pci              0.5 (0.46,0.54)         0.53 (0.49,0.57)        < 0.001       \n",
              "                                                                               \n",
              "age (cont. var.) 1.06 (1.06,1.06)        1.06 (1.06,1.06)        < 0.001       \n",
              "                                                                               \n",
              "sex (cont. var.) 0.6759 (0.6261,0.7296)  0.9968 (0.9207,1.0792)  0.936         \n",
              "                                                                               \n",
              "dm               1.48 (1.37,1.6)         1.61 (1.49,1.74)        < 0.001       \n",
              "                                                                               \n",
              "                 P(LR-test)\n",
              "pci              < 0.001   \n",
              "                           \n",
              "age (cont. var.) < 0.001   \n",
              "                           \n",
              "sex (cont. var.) 0.936     \n",
              "                           \n",
              "dm               < 0.001   \n",
              "                           \n",
              "No. of observations =  14826 "
            ]
          },
          "metadata": {}
        }
      ]
    }
  ],
  "metadata": {
    "accelerator": "TPU",
    "colab": {
      "provenance": [],
      "machine_shape": "hm"
    },
    "kernelspec": {
      "display_name": "R",
      "name": "ir"
    }
  },
  "nbformat": 4,
  "nbformat_minor": 0
}